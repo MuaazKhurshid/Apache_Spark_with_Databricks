{
 "cells": [
  {
   "cell_type": "markdown",
   "metadata": {
    "application/vnd.databricks.v1+cell": {
     "cellMetadata": {},
     "inputWidgets": {},
     "nuid": "33f2a07e-8de8-44cd-b839-39ba7eb26c4c",
     "showTitle": false,
     "title": ""
    }
   },
   "source": [
    "\n",
    "<div style=\"text-align: center; line-height: 0; padding-top: 9px;\">\n",
    "  <img src=\"https://databricks.com/wp-content/uploads/2018/03/db-academy-rgb-1200px.png\" alt=\"Databricks Learning\" style=\"width: 600px\">\n",
    "</div>"
   ]
  },
  {
   "cell_type": "markdown",
   "metadata": {
    "application/vnd.databricks.v1+cell": {
     "cellMetadata": {},
     "inputWidgets": {},
     "nuid": "464aee28-d4d1-47cd-989b-6d726d6401d9",
     "showTitle": false,
     "title": "--i18n-b11bddc6-97f8-42c1-85a5-a16f1662e3ba"
    }
   },
   "source": [
    "\n",
    "\n",
    "# Purchase Revenues Lab\n",
    "\n",
    "Prepare dataset of events with purchase revenue.\n",
    "\n",
    "##### Tasks\n",
    "1. Extract purchase revenue for each event\n",
    "2. Filter events where revenue is not null\n",
    "3. Check what types of events have revenue\n",
    "4. Drop unneeded column\n",
    "\n",
    "##### Methods\n",
    "- DataFrame: **`select`**, **`drop`**, **`withColumn`**, **`filter`**, **`dropDuplicates`**\n",
    "- Column: **`isNotNull`**"
   ]
  },
  {
   "cell_type": "code",
   "execution_count": 0,
   "metadata": {
    "application/vnd.databricks.v1+cell": {
     "cellMetadata": {
      "byteLimit": 2048000,
      "rowLimit": 10000
     },
     "inputWidgets": {},
     "nuid": "f982747f-7e61-4139-8875-048533fdbe45",
     "showTitle": false,
     "title": ""
    }
   },
   "outputs": [
    {
     "output_type": "stream",
     "name": "stdout",
     "output_type": "stream",
     "text": [
      "Python interpreter will be restarted.\nPython interpreter will be restarted.\n"
     ]
    },
    {
     "output_type": "stream",
     "name": "stdout",
     "output_type": "stream",
     "text": [
      "Resetting the learning environment:\n| No action taken\n\nSkipping install of existing datasets to \"dbfs:/mnt/dbacademy-datasets/apache-spark-programming-with-databricks/v03\"\n\nValidating the locally installed datasets:\n| listing local files...(5 seconds)\n| validation completed...(5 seconds total)\n\nCreating & using the schema \"muaazkhurshid_q1yg_da_asp\" in the catalog \"spark_catalog\"...(1 seconds)\n\nPredefined tables in \"muaazkhurshid_q1yg_da_asp\":\n| -none-\n\nPredefined paths variables:\n| DA.paths.working_dir: dbfs:/mnt/dbacademy-users/muaazkhurshid@uni-koblenz.de/apache-spark-programming-with-databricks\n| DA.paths.user_db:     dbfs:/mnt/dbacademy-users/muaazkhurshid@uni-koblenz.de/apache-spark-programming-with-databricks/database.db\n| DA.paths.datasets:    dbfs:/mnt/dbacademy-datasets/apache-spark-programming-with-databricks/v03\n| DA.paths.checkpoints: dbfs:/mnt/dbacademy-users/muaazkhurshid@uni-koblenz.de/apache-spark-programming-with-databricks/_checkpoints\n\nSetup completed (26 seconds)\n\nPredefined tables in \"muaazkhurshid_q1yg_da_asp\":\n| -none-\n\nPredefined paths variables:\n| DA.paths.working_dir: dbfs:/mnt/dbacademy-users/muaazkhurshid@uni-koblenz.de/apache-spark-programming-with-databricks\n| DA.paths.user_db:     dbfs:/mnt/dbacademy-users/muaazkhurshid@uni-koblenz.de/apache-spark-programming-with-databricks/database.db\n| DA.paths.datasets:    dbfs:/mnt/dbacademy-datasets/apache-spark-programming-with-databricks/v03\n| DA.paths.checkpoints: dbfs:/mnt/dbacademy-users/muaazkhurshid@uni-koblenz.de/apache-spark-programming-with-databricks/_checkpoints\n| DA.paths.sales:       dbfs:/mnt/dbacademy-datasets/apache-spark-programming-with-databricks/v03/ecommerce/sales/sales.delta\n| DA.paths.users:       dbfs:/mnt/dbacademy-datasets/apache-spark-programming-with-databricks/v03/ecommerce/users/users.delta\n| DA.paths.events:      dbfs:/mnt/dbacademy-datasets/apache-spark-programming-with-databricks/v03/ecommerce/events/events.delta\n| DA.paths.products:    dbfs:/mnt/dbacademy-datasets/apache-spark-programming-with-databricks/v03/products/products.delta\n\nSetup completed (26 seconds)\n"
     ]
    }
   ],
   "source": [
    "%run ../Includes/Classroom-Setup"
   ]
  },
  {
   "cell_type": "code",
   "execution_count": 0,
   "metadata": {
    "application/vnd.databricks.v1+cell": {
     "cellMetadata": {
      "byteLimit": 2048000,
      "rowLimit": 10000
     },
     "inputWidgets": {},
     "nuid": "b5119b3a-dc99-48f7-bfb1-93606d2a6b6e",
     "showTitle": false,
     "title": ""
    }
   },
   "outputs": [],
   "source": [
    "events_df = spark.read.format(\"delta\").load(DA.paths.events)\n",
    "# display(events_df)"
   ]
  },
  {
   "cell_type": "markdown",
   "metadata": {
    "application/vnd.databricks.v1+cell": {
     "cellMetadata": {},
     "inputWidgets": {},
     "nuid": "a4eedd3e-eb15-4688-be53-decdcd5655e9",
     "showTitle": false,
     "title": "--i18n-60bd4181-97a2-4a06-a803-21b6f6f53743"
    }
   },
   "source": [
    "\n",
    "\n",
    "### 1. Extract purchase revenue for each event\n",
    "Add new column **`revenue`** by extracting **`ecommerce.purchase_revenue_in_usd`**"
   ]
  },
  {
   "cell_type": "code",
   "execution_count": 0,
   "metadata": {
    "application/vnd.databricks.v1+cell": {
     "cellMetadata": {
      "byteLimit": 2048000,
      "rowLimit": 10000
     },
     "inputWidgets": {},
     "nuid": "c61411b5-9097-4ce6-b470-cd8c0a3ac0a9",
     "showTitle": false,
     "title": ""
    }
   },
   "outputs": [],
   "source": [
    "# TODO\n",
    "from pyspark.sql.functions import col\n",
    "revenue_df = events_df.withColumn(\"revenue\", col(\"ecommerce.purchase_revenue_in_usd\"))\n",
    "# display(revenue_df)"
   ]
  },
  {
   "cell_type": "markdown",
   "metadata": {
    "application/vnd.databricks.v1+cell": {
     "cellMetadata": {},
     "inputWidgets": {},
     "nuid": "81cc1d1d-d9cc-48db-a9c1-e5fa04087cef",
     "showTitle": false,
     "title": "--i18n-0772d97a-4f9c-4214-9395-a79881a4af01"
    }
   },
   "source": [
    "\n",
    "\n",
    "\n",
    "\n",
    "**1.1: CHECK YOUR WORK**"
   ]
  },
  {
   "cell_type": "code",
   "execution_count": 0,
   "metadata": {
    "application/vnd.databricks.v1+cell": {
     "cellMetadata": {
      "byteLimit": 2048000,
      "rowLimit": 10000
     },
     "inputWidgets": {},
     "nuid": "47abbdeb-c901-42a0-9c58-4ded07db100a",
     "showTitle": false,
     "title": ""
    }
   },
   "outputs": [
    {
     "output_type": "stream",
     "name": "stdout",
     "output_type": "stream",
     "text": [
      "All test pass\n"
     ]
    }
   ],
   "source": [
    "from pyspark.sql.functions import col\n",
    "expected1 = [5830.0, 5485.0, 5289.0, 5219.1, 5180.0, 5175.0, 5125.0, 5030.0, 4985.0, 4985.0]\n",
    "result1 = [row.revenue for row in revenue_df.sort(col(\"revenue\").desc_nulls_last()).limit(10).collect()]\n",
    "\n",
    "assert(expected1 == result1)\n",
    "print(\"All test pass\")"
   ]
  },
  {
   "cell_type": "markdown",
   "metadata": {
    "application/vnd.databricks.v1+cell": {
     "cellMetadata": {},
     "inputWidgets": {},
     "nuid": "f6e45059-893b-4306-98ce-464c089da554",
     "showTitle": false,
     "title": "--i18n-304eff86-a096-4ed1-a492-2420b1db8e77"
    }
   },
   "source": [
    "\n",
    "\n",
    "### 2. Filter events where revenue is not null\n",
    "Filter for records where **`revenue`** is not **`null`**"
   ]
  },
  {
   "cell_type": "code",
   "execution_count": 0,
   "metadata": {
    "application/vnd.databricks.v1+cell": {
     "cellMetadata": {
      "byteLimit": 2048000,
      "rowLimit": 10000
     },
     "inputWidgets": {},
     "nuid": "4438b6e4-eaae-49e7-9b5b-23a75b1130fa",
     "showTitle": false,
     "title": ""
    }
   },
   "outputs": [],
   "source": [
    "# TODO\n",
    "purchases_df = revenue_df.filter(col(\"ecommerce.purchase_revenue_in_usd\").isNotNull())\n",
    "# display(purchases_df)"
   ]
  },
  {
   "cell_type": "markdown",
   "metadata": {
    "application/vnd.databricks.v1+cell": {
     "cellMetadata": {},
     "inputWidgets": {},
     "nuid": "db52a7cf-7fa0-4671-a5b1-dcfc3104afa2",
     "showTitle": false,
     "title": "--i18n-31a6d284-50e0-4022-b795-c9b941c44123"
    }
   },
   "source": [
    "\n",
    "\n",
    "\n",
    "**2.1: CHECK YOUR WORK**"
   ]
  },
  {
   "cell_type": "code",
   "execution_count": 0,
   "metadata": {
    "application/vnd.databricks.v1+cell": {
     "cellMetadata": {
      "byteLimit": 2048000,
      "rowLimit": 10000
     },
     "inputWidgets": {},
     "nuid": "b3f74de3-16ce-42d8-8ccd-995018e382a9",
     "showTitle": false,
     "title": ""
    }
   },
   "outputs": [
    {
     "output_type": "stream",
     "name": "stdout",
     "output_type": "stream",
     "text": [
      "All test pass\n"
     ]
    }
   ],
   "source": [
    "assert purchases_df.filter(col(\"revenue\").isNull()).count() == 0, \"Nulls in 'revenue' column\"\n",
    "print(\"All test pass\")"
   ]
  },
  {
   "cell_type": "markdown",
   "metadata": {
    "application/vnd.databricks.v1+cell": {
     "cellMetadata": {},
     "inputWidgets": {},
     "nuid": "631bb603-68ac-46a7-abe8-af4ab21e0e9f",
     "showTitle": false,
     "title": "--i18n-493074be-c415-400d-8527-85acc1dff0da"
    }
   },
   "source": [
    "\n",
    "\n",
    "### 3. Check what types of events have revenue\n",
    "Find unique **`event_name`** values in **`purchases_df`** in one of two ways:\n",
    "- Select \"event_name\" and get distinct records\n",
    "- Drop duplicate records based on the \"event_name\" only\n",
    "\n",
    "<img src=\"https://files.training.databricks.com/images/icon_hint_32.png\" alt=\"Hint\"> There's only one event associated with revenues"
   ]
  },
  {
   "cell_type": "code",
   "execution_count": 0,
   "metadata": {
    "application/vnd.databricks.v1+cell": {
     "cellMetadata": {
      "byteLimit": 2048000,
      "rowLimit": 10000
     },
     "inputWidgets": {},
     "nuid": "a7b00c7b-ef19-42a6-9d85-f8e30359d3aa",
     "showTitle": false,
     "title": ""
    }
   },
   "outputs": [
    {
     "output_type": "display_data",
     "data": {
      "text/html": [
       "<style scoped>\n",
       "  .table-result-container {\n",
       "    max-height: 300px;\n",
       "    overflow: auto;\n",
       "  }\n",
       "  table, th, td {\n",
       "    border: 1px solid black;\n",
       "    border-collapse: collapse;\n",
       "  }\n",
       "  th, td {\n",
       "    padding: 5px;\n",
       "  }\n",
       "  th {\n",
       "    text-align: left;\n",
       "  }\n",
       "</style><div class='table-result-container'><table class='table-result'><thead style='background-color: white'><tr><th>device</th><th>ecommerce</th><th>event_name</th><th>event_previous_timestamp</th><th>event_timestamp</th><th>geo</th><th>items</th><th>traffic_source</th><th>user_first_touch_timestamp</th><th>user_id</th><th>revenue</th></tr></thead><tbody><tr><td>Chrome OS</td><td>List(595.0, 1, 1)</td><td>finalize</td><td>1593611100709726</td><td>1593611164590787</td><td>List(Laredo, TX)</td><td>List(List(null, M_STAN_T, Standard Twin Mattress, 595.0, 595.0, 1))</td><td>google</td><td>1593606775008006</td><td>UA000000106493130</td><td>595.0</td></tr></tbody></table></div>"
      ]
     },
     "metadata": {
      "application/vnd.databricks.v1+output": {
       "addedWidgets": {},
       "aggData": [],
       "aggError": "",
       "aggOverflow": false,
       "aggSchema": [],
       "aggSeriesLimitReached": false,
       "aggType": "",
       "arguments": {},
       "columnCustomDisplayInfos": {},
       "data": [
        [
         "Chrome OS",
         [
          595.0,
          1,
          1
         ],
         "finalize",
         1593611100709726,
         1593611164590787,
         [
          "Laredo",
          "TX"
         ],
         [
          [
           null,
           "M_STAN_T",
           "Standard Twin Mattress",
           595.0,
           595.0,
           1
          ]
         ],
         "google",
         1593606775008006,
         "UA000000106493130",
         595.0
        ]
       ],
       "datasetInfos": [],
       "dbfsResultPath": null,
       "isJsonSchema": true,
       "metadata": {},
       "overflow": false,
       "plotOptions": {
        "customPlotOptions": {},
        "displayType": "table",
        "pivotAggregation": null,
        "pivotColumns": null,
        "xColumns": null,
        "yColumns": null
       },
       "removedWidgets": [],
       "schema": [
        {
         "metadata": "{}",
         "name": "device",
         "type": "\"string\""
        },
        {
         "metadata": "{}",
         "name": "ecommerce",
         "type": "{\"type\":\"struct\",\"fields\":[{\"name\":\"purchase_revenue_in_usd\",\"type\":\"double\",\"nullable\":true,\"metadata\":{}},{\"name\":\"total_item_quantity\",\"type\":\"long\",\"nullable\":true,\"metadata\":{}},{\"name\":\"unique_items\",\"type\":\"long\",\"nullable\":true,\"metadata\":{}}]}"
        },
        {
         "metadata": "{}",
         "name": "event_name",
         "type": "\"string\""
        },
        {
         "metadata": "{}",
         "name": "event_previous_timestamp",
         "type": "\"long\""
        },
        {
         "metadata": "{}",
         "name": "event_timestamp",
         "type": "\"long\""
        },
        {
         "metadata": "{}",
         "name": "geo",
         "type": "{\"type\":\"struct\",\"fields\":[{\"name\":\"city\",\"type\":\"string\",\"nullable\":true,\"metadata\":{}},{\"name\":\"state\",\"type\":\"string\",\"nullable\":true,\"metadata\":{}}]}"
        },
        {
         "metadata": "{}",
         "name": "items",
         "type": "{\"type\":\"array\",\"elementType\":{\"type\":\"struct\",\"fields\":[{\"name\":\"coupon\",\"type\":\"string\",\"nullable\":true,\"metadata\":{}},{\"name\":\"item_id\",\"type\":\"string\",\"nullable\":true,\"metadata\":{}},{\"name\":\"item_name\",\"type\":\"string\",\"nullable\":true,\"metadata\":{}},{\"name\":\"item_revenue_in_usd\",\"type\":\"double\",\"nullable\":true,\"metadata\":{}},{\"name\":\"price_in_usd\",\"type\":\"double\",\"nullable\":true,\"metadata\":{}},{\"name\":\"quantity\",\"type\":\"long\",\"nullable\":true,\"metadata\":{}}]},\"containsNull\":true}"
        },
        {
         "metadata": "{}",
         "name": "traffic_source",
         "type": "\"string\""
        },
        {
         "metadata": "{}",
         "name": "user_first_touch_timestamp",
         "type": "\"long\""
        },
        {
         "metadata": "{}",
         "name": "user_id",
         "type": "\"string\""
        },
        {
         "metadata": "{}",
         "name": "revenue",
         "type": "\"double\""
        }
       ],
       "type": "table"
      }
     },
     "output_type": "display_data"
    }
   ],
   "source": [
    "# TODO\n",
    "distinct_df = purchases_df.dropDuplicates([\"event_name\"])\n",
    "display(distinct_df)"
   ]
  },
  {
   "cell_type": "markdown",
   "metadata": {
    "application/vnd.databricks.v1+cell": {
     "cellMetadata": {},
     "inputWidgets": {},
     "nuid": "127fe021-6388-44bc-9d84-6fb289b1420a",
     "showTitle": false,
     "title": "--i18n-a2cdcb0b-22b6-4f87-8352-5d427c6d5bd2"
    }
   },
   "source": [
    "\n",
    "\n",
    "### 4. Drop unneeded column\n",
    "Since there's only one event type, drop **`event_name`** from **`purchases_df`**."
   ]
  },
  {
   "cell_type": "code",
   "execution_count": 0,
   "metadata": {
    "application/vnd.databricks.v1+cell": {
     "cellMetadata": {
      "byteLimit": 2048000,
      "rowLimit": 10000
     },
     "inputWidgets": {},
     "nuid": "e861f73f-b781-443a-bda5-ad8bbc35d2af",
     "showTitle": false,
     "title": ""
    }
   },
   "outputs": [],
   "source": [
    "# TODO\n",
    "final_df = purchases_df.drop(\"event_name\")\n",
    "# display(final_df)"
   ]
  },
  {
   "cell_type": "markdown",
   "metadata": {
    "application/vnd.databricks.v1+cell": {
     "cellMetadata": {},
     "inputWidgets": {},
     "nuid": "6618720b-006b-4619-b46b-1c807172a94b",
     "showTitle": false,
     "title": "--i18n-94f780e0-76f0-4668-ab10-125a4d3bd8cc"
    }
   },
   "source": [
    "\n",
    "\n",
    "\n",
    "**4.1: CHECK YOUR WORK**"
   ]
  },
  {
   "cell_type": "code",
   "execution_count": 0,
   "metadata": {
    "application/vnd.databricks.v1+cell": {
     "cellMetadata": {
      "byteLimit": 2048000,
      "rowLimit": 10000
     },
     "inputWidgets": {},
     "nuid": "875ea4d6-0e56-424e-ab91-c40bce18f3be",
     "showTitle": false,
     "title": ""
    }
   },
   "outputs": [
    {
     "output_type": "stream",
     "name": "stdout",
     "output_type": "stream",
     "text": [
      "All test pass\n"
     ]
    }
   ],
   "source": [
    "expected_columns = {\"device\", \"ecommerce\", \"event_previous_timestamp\", \"event_timestamp\",\n",
    "                    \"geo\", \"items\", \"revenue\", \"traffic_source\",\n",
    "                    \"user_first_touch_timestamp\", \"user_id\"}\n",
    "assert(set(final_df.columns) == expected_columns)\n",
    "print(\"All test pass\")"
   ]
  },
  {
   "cell_type": "markdown",
   "metadata": {
    "application/vnd.databricks.v1+cell": {
     "cellMetadata": {},
     "inputWidgets": {},
     "nuid": "07d940e7-907f-4d77-8183-4c6dd8ffc5e6",
     "showTitle": false,
     "title": "--i18n-86c5d7d7-c387-4452-ac0a-fb96386ab78e"
    }
   },
   "source": [
    "\n",
    "\n",
    "\n",
    "### 5. Chain all the steps above excluding step 3"
   ]
  },
  {
   "cell_type": "code",
   "execution_count": 0,
   "metadata": {
    "application/vnd.databricks.v1+cell": {
     "cellMetadata": {
      "byteLimit": 2048000,
      "rowLimit": 10000
     },
     "inputWidgets": {},
     "nuid": "1a2a0044-b7bd-4ef7-9f00-c9f34a9642ae",
     "showTitle": false,
     "title": ""
    }
   },
   "outputs": [],
   "source": [
    "# TODO\n",
    "from pyspark.sql.functions import col\n",
    "final_df = (events_df\n",
    "  .withColumn(\"revenue\", col(\"ecommerce.purchase_revenue_in_usd\"))\n",
    "  .filter(col(\"ecommerce.purchase_revenue_in_usd\").isNotNull())\n",
    "  .drop(\"event_name\")\n",
    ")\n",
    "\n",
    "# display(final_df)"
   ]
  },
  {
   "cell_type": "markdown",
   "metadata": {
    "application/vnd.databricks.v1+cell": {
     "cellMetadata": {},
     "inputWidgets": {},
     "nuid": "a210641b-12c5-4b83-bd73-eb61366ba243",
     "showTitle": false,
     "title": "--i18n-99029e50-6d9d-4943-99ad-0edd4e8f9c97"
    }
   },
   "source": [
    "\n",
    "\n",
    "\n",
    "**5.1: CHECK YOUR WORK**"
   ]
  },
  {
   "cell_type": "code",
   "execution_count": 0,
   "metadata": {
    "application/vnd.databricks.v1+cell": {
     "cellMetadata": {
      "byteLimit": 2048000,
      "rowLimit": 10000
     },
     "inputWidgets": {},
     "nuid": "d99d513e-18f4-4358-afa0-3564b3f58ffb",
     "showTitle": false,
     "title": ""
    }
   },
   "outputs": [
    {
     "output_type": "stream",
     "name": "stdout",
     "output_type": "stream",
     "text": [
      "All test pass\n"
     ]
    }
   ],
   "source": [
    "assert(final_df.count() == 180678)\n",
    "print(\"All test pass\")"
   ]
  },
  {
   "cell_type": "code",
   "execution_count": 0,
   "metadata": {
    "application/vnd.databricks.v1+cell": {
     "cellMetadata": {
      "byteLimit": 2048000,
      "rowLimit": 10000
     },
     "inputWidgets": {},
     "nuid": "19a4eb69-81a7-4a9c-b7cf-7353674dfabf",
     "showTitle": false,
     "title": ""
    }
   },
   "outputs": [
    {
     "output_type": "stream",
     "name": "stdout",
     "output_type": "stream",
     "text": [
      "All test pass\n"
     ]
    }
   ],
   "source": [
    "expected_columns = {\"device\", \"ecommerce\", \"event_previous_timestamp\", \"event_timestamp\",\n",
    "                    \"geo\", \"items\", \"revenue\", \"traffic_source\",\n",
    "                    \"user_first_touch_timestamp\", \"user_id\"}\n",
    "assert(set(final_df.columns) == expected_columns)\n",
    "print(\"All test pass\")"
   ]
  },
  {
   "cell_type": "markdown",
   "metadata": {
    "application/vnd.databricks.v1+cell": {
     "cellMetadata": {},
     "inputWidgets": {},
     "nuid": "56a03225-d6ea-44d8-8626-c076c17b4a82",
     "showTitle": false,
     "title": "--i18n-6bc7dc19-46ee-48d2-9422-d3a2530542fc"
    }
   },
   "source": [
    "\n",
    "\n",
    "\n",
    "### Clean up classroom"
   ]
  },
  {
   "cell_type": "code",
   "execution_count": 0,
   "metadata": {
    "application/vnd.databricks.v1+cell": {
     "cellMetadata": {
      "byteLimit": 2048000,
      "rowLimit": 10000
     },
     "inputWidgets": {},
     "nuid": "66e10fbc-1159-4432-bb29-bb13e37fdb1d",
     "showTitle": false,
     "title": ""
    }
   },
   "outputs": [
    {
     "output_type": "stream",
     "name": "stdout",
     "output_type": "stream",
     "text": [
      "Resetting the learning environment:\n| dropping the schema \"muaazkhurshid_q1yg_da_asp\"...(1 seconds)\n| removing the working directory \"dbfs:/mnt/dbacademy-users/muaazkhurshid@uni-koblenz.de/apache-spark-programming-with-databricks\"...(0 seconds)\n\nValidating the locally installed datasets:\n| listing local files...(3 seconds)\n| validation completed...(3 seconds total)\n"
     ]
    }
   ],
   "source": [
    "DA.cleanup()"
   ]
  },
  {
   "cell_type": "markdown",
   "metadata": {
    "application/vnd.databricks.v1+cell": {
     "cellMetadata": {},
     "inputWidgets": {},
     "nuid": "fd264b64-fb47-4b47-90c5-8be11322a679",
     "showTitle": false,
     "title": ""
    }
   },
   "source": [
    "&copy; 2023 Databricks, Inc. All rights reserved.<br/>\n",
    "Apache, Apache Spark, Spark and the Spark logo are trademarks of the <a href=\"https://www.apache.org/\">Apache Software Foundation</a>.<br/>\n",
    "<br/>\n",
    "<a href=\"https://databricks.com/privacy-policy\">Privacy Policy</a> | <a href=\"https://databricks.com/terms-of-use\">Terms of Use</a> | <a href=\"https://help.databricks.com/\">Support</a>"
   ]
  }
 ],
 "metadata": {
  "application/vnd.databricks.v1+notebook": {
   "dashboards": [],
   "language": "python",
   "notebookMetadata": {
    "pythonIndentUnit": 2
   },
   "notebookName": "ASP 2.3L - Purchase Revenues Lab",
   "widgets": {}
  }
 },
 "nbformat": 4,
 "nbformat_minor": 0
}
