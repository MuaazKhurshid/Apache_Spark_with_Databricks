{
 "cells": [
  {
   "cell_type": "markdown",
   "metadata": {
    "application/vnd.databricks.v1+cell": {
     "cellMetadata": {},
     "inputWidgets": {},
     "nuid": "1b632dce-5c64-4d7d-8d92-2dd5d86672d5",
     "showTitle": false,
     "title": ""
    }
   },
   "source": [
    "\n",
    "<div style=\"text-align: center; line-height: 0; padding-top: 9px;\">\n",
    "  <img src=\"https://databricks.com/wp-content/uploads/2018/03/db-academy-rgb-1200px.png\" alt=\"Databricks Learning\" style=\"width: 600px\">\n",
    "</div>"
   ]
  },
  {
   "cell_type": "markdown",
   "metadata": {
    "application/vnd.databricks.v1+cell": {
     "cellMetadata": {},
     "inputWidgets": {},
     "nuid": "ee969bc3-d197-4338-88ad-65d08c1ad186",
     "showTitle": false,
     "title": "--i18n-4e68432b-fcb4-473c-83dc-da733742ad49"
    }
   },
   "source": [
    "\n",
    "\n",
    "# Spark SQL\n",
    "\n",
    "Demonstrate fundamental concepts in Spark SQL using the DataFrame API.\n",
    "\n",
    "##### Objectives\n",
    "1. Run a SQL query\n",
    "1. Create a DataFrame from a table\n",
    "1. Write the same query using DataFrame transformations\n",
    "1. Trigger computation with DataFrame actions\n",
    "1. Convert between DataFrames and SQL\n",
    "\n",
    "##### Methods\n",
    "- <a href=\"https://spark.apache.org/docs/latest/api/python/reference/pyspark.sql/spark_session.html\" target=\"_blank\">SparkSession</a>: **`sql`**, **`table`**\n",
    "- <a href=\"https://spark.apache.org/docs/latest/api/python/reference/pyspark.sql/dataframe.html\" target=\"_blank\">DataFrame</a>:\n",
    "  - Transformations:  **`select`**, **`where`**, **`orderBy`**\n",
    "  - Actions: **`show`**, **`count`**, **`take`**\n",
    "  - Other methods: **`printSchema`**, **`schema`**, **`createOrReplaceTempView`**"
   ]
  },
  {
   "cell_type": "code",
   "execution_count": 0,
   "metadata": {
    "application/vnd.databricks.v1+cell": {
     "cellMetadata": {
      "byteLimit": 2048000,
      "rowLimit": 10000
     },
     "inputWidgets": {},
     "nuid": "d558e587-5d25-4dd0-a814-effd43411a30",
     "showTitle": false,
     "title": ""
    }
   },
   "outputs": [
    {
     "output_type": "stream",
     "name": "stdout",
     "output_type": "stream",
     "text": [
      "Python interpreter will be restarted.\nPython interpreter will be restarted.\n"
     ]
    },
    {
     "output_type": "stream",
     "name": "stdout",
     "output_type": "stream",
     "text": [
      "Resetting the learning environment:\n| No action taken\n\nSkipping install of existing datasets to \"dbfs:/mnt/dbacademy-datasets/apache-spark-programming-with-databricks/v03\"\n\nValidating the locally installed datasets:\n| listing local files...(3 seconds)\n| validation completed...(3 seconds total)\n\nCreating & using the schema \"muaazkhurshid_q1yg_da_asp\" in the catalog \"spark_catalog\"...(0 seconds)\n\nPredefined tables in \"muaazkhurshid_q1yg_da_asp\":\n| -none-\n\nPredefined paths variables:\n| DA.paths.working_dir: dbfs:/mnt/dbacademy-users/muaazkhurshid@uni-koblenz.de/apache-spark-programming-with-databricks\n| DA.paths.user_db:     dbfs:/mnt/dbacademy-users/muaazkhurshid@uni-koblenz.de/apache-spark-programming-with-databricks/database.db\n| DA.paths.datasets:    dbfs:/mnt/dbacademy-datasets/apache-spark-programming-with-databricks/v03\n| DA.paths.checkpoints: dbfs:/mnt/dbacademy-users/muaazkhurshid@uni-koblenz.de/apache-spark-programming-with-databricks/_checkpoints\n\nSetup completed (6 seconds)\nCreating the table \"events\"...(11 seconds)\nCreating the table \"sales\"...(5 seconds)\nCreating the table \"users\"...(5 seconds)\nCreating the table \"products\"...(4 seconds)\n\nPredefined tables in \"muaazkhurshid_q1yg_da_asp\":\n| events\n| products\n| sales\n| users\n\nPredefined paths variables:\n| DA.paths.working_dir: dbfs:/mnt/dbacademy-users/muaazkhurshid@uni-koblenz.de/apache-spark-programming-with-databricks\n| DA.paths.user_db:     dbfs:/mnt/dbacademy-users/muaazkhurshid@uni-koblenz.de/apache-spark-programming-with-databricks/database.db\n| DA.paths.datasets:    dbfs:/mnt/dbacademy-datasets/apache-spark-programming-with-databricks/v03\n| DA.paths.checkpoints: dbfs:/mnt/dbacademy-users/muaazkhurshid@uni-koblenz.de/apache-spark-programming-with-databricks/_checkpoints\n\nSetup completed (32 seconds)\n"
     ]
    }
   ],
   "source": [
    "%run ../Includes/Classroom-Setup-SQL"
   ]
  },
  {
   "cell_type": "markdown",
   "metadata": {
    "application/vnd.databricks.v1+cell": {
     "cellMetadata": {},
     "inputWidgets": {},
     "nuid": "c04f4e15-67e4-4da9-b325-97cdbbdc7f5d",
     "showTitle": false,
     "title": "--i18n-2b97b70b-d032-48cc-a86d-4bcc3bb53c25"
    }
   },
   "source": [
    "\n",
    "\n",
    "## Multiple Interfaces\n",
    "Spark SQL is a module for structured data processing with multiple interfaces.\n",
    "\n",
    "We can interact with Spark SQL in two ways:\n",
    "1. Executing SQL queries\n",
    "1. Working with the DataFrame API."
   ]
  },
  {
   "cell_type": "markdown",
   "metadata": {
    "application/vnd.databricks.v1+cell": {
     "cellMetadata": {},
     "inputWidgets": {},
     "nuid": "3dcf11e0-ad1a-4c82-9707-700299888e4d",
     "showTitle": false,
     "title": "--i18n-5daeff66-5dae-4f1e-9a1f-d99b613ae624"
    }
   },
   "source": [
    "\n",
    "\n",
    "**Method 1: Executing SQL queries**\n",
    "\n",
    "This is how we interacted with Spark SQL in the previous lesson."
   ]
  },
  {
   "cell_type": "code",
   "execution_count": 0,
   "metadata": {
    "application/vnd.databricks.v1+cell": {
     "cellMetadata": {
      "byteLimit": 2048000,
      "implicitDf": true,
      "rowLimit": 10000
     },
     "inputWidgets": {},
     "nuid": "d7e44a07-2990-48a5-888f-c5575c7ae3d9",
     "showTitle": false,
     "title": ""
    }
   },
   "outputs": [
    {
     "output_type": "display_data",
     "data": {
      "text/html": [
       "<style scoped>\n",
       "  .table-result-container {\n",
       "    max-height: 300px;\n",
       "    overflow: auto;\n",
       "  }\n",
       "  table, th, td {\n",
       "    border: 1px solid black;\n",
       "    border-collapse: collapse;\n",
       "  }\n",
       "  th, td {\n",
       "    padding: 5px;\n",
       "  }\n",
       "  th {\n",
       "    text-align: left;\n",
       "  }\n",
       "</style><div class='table-result-container'><table class='table-result'><thead style='background-color: white'><tr><th>name</th><th>price</th></tr></thead><tbody><tr><td>Standard Foam Pillow</td><td>59.0</td></tr><tr><td>King Foam Pillow</td><td>79.0</td></tr><tr><td>Standard Down Pillow</td><td>119.0</td></tr><tr><td>King Down Pillow</td><td>159.0</td></tr></tbody></table></div>"
      ]
     },
     "metadata": {
      "application/vnd.databricks.v1+output": {
       "addedWidgets": {},
       "aggData": [],
       "aggError": "",
       "aggOverflow": false,
       "aggSchema": [],
       "aggSeriesLimitReached": false,
       "aggType": "",
       "arguments": {},
       "columnCustomDisplayInfos": {},
       "data": [
        [
         "Standard Foam Pillow",
         59.0
        ],
        [
         "King Foam Pillow",
         79.0
        ],
        [
         "Standard Down Pillow",
         119.0
        ],
        [
         "King Down Pillow",
         159.0
        ]
       ],
       "datasetInfos": [],
       "dbfsResultPath": null,
       "isJsonSchema": true,
       "metadata": {},
       "overflow": false,
       "plotOptions": {
        "customPlotOptions": {},
        "displayType": "table",
        "pivotAggregation": null,
        "pivotColumns": null,
        "xColumns": null,
        "yColumns": null
       },
       "removedWidgets": [],
       "schema": [
        {
         "metadata": "{}",
         "name": "name",
         "type": "\"string\""
        },
        {
         "metadata": "{}",
         "name": "price",
         "type": "\"double\""
        }
       ],
       "type": "table"
      }
     },
     "output_type": "display_data"
    }
   ],
   "source": [
    "%sql\n",
    "SELECT name, price\n",
    "FROM products\n",
    "WHERE price < 200\n",
    "ORDER BY price"
   ]
  },
  {
   "cell_type": "markdown",
   "metadata": {
    "application/vnd.databricks.v1+cell": {
     "cellMetadata": {},
     "inputWidgets": {},
     "nuid": "f9be2b00-2d21-494c-8594-070408c1a5a1",
     "showTitle": false,
     "title": "--i18n-0f5a4329-12b5-4b81-875c-2722dbdf85d9"
    }
   },
   "source": [
    "\n",
    "\n",
    "\n",
    "**Method 2: Working with the DataFrame API**\n",
    "\n",
    "We can also express Spark SQL queries using the DataFrame API.\n",
    "The following cell returns a DataFrame containing the same results as those retrieved above."
   ]
  },
  {
   "cell_type": "code",
   "execution_count": 0,
   "metadata": {
    "application/vnd.databricks.v1+cell": {
     "cellMetadata": {
      "byteLimit": 2048000,
      "rowLimit": 10000
     },
     "inputWidgets": {},
     "nuid": "80d93da0-fffb-453b-ba0b-b6af68ed85d6",
     "showTitle": false,
     "title": ""
    }
   },
   "outputs": [
    {
     "output_type": "display_data",
     "data": {
      "text/html": [
       "<style scoped>\n",
       "  .table-result-container {\n",
       "    max-height: 300px;\n",
       "    overflow: auto;\n",
       "  }\n",
       "  table, th, td {\n",
       "    border: 1px solid black;\n",
       "    border-collapse: collapse;\n",
       "  }\n",
       "  th, td {\n",
       "    padding: 5px;\n",
       "  }\n",
       "  th {\n",
       "    text-align: left;\n",
       "  }\n",
       "</style><div class='table-result-container'><table class='table-result'><thead style='background-color: white'><tr><th>name</th><th>price</th></tr></thead><tbody><tr><td>Standard Foam Pillow</td><td>59.0</td></tr><tr><td>King Foam Pillow</td><td>79.0</td></tr><tr><td>Standard Down Pillow</td><td>119.0</td></tr><tr><td>King Down Pillow</td><td>159.0</td></tr></tbody></table></div>"
      ]
     },
     "metadata": {
      "application/vnd.databricks.v1+output": {
       "addedWidgets": {},
       "aggData": [],
       "aggError": "",
       "aggOverflow": false,
       "aggSchema": [],
       "aggSeriesLimitReached": false,
       "aggType": "",
       "arguments": {},
       "columnCustomDisplayInfos": {},
       "data": [
        [
         "Standard Foam Pillow",
         59.0
        ],
        [
         "King Foam Pillow",
         79.0
        ],
        [
         "Standard Down Pillow",
         119.0
        ],
        [
         "King Down Pillow",
         159.0
        ]
       ],
       "datasetInfos": [],
       "dbfsResultPath": null,
       "isJsonSchema": true,
       "metadata": {},
       "overflow": false,
       "plotOptions": {
        "customPlotOptions": {},
        "displayType": "table",
        "pivotAggregation": null,
        "pivotColumns": null,
        "xColumns": null,
        "yColumns": null
       },
       "removedWidgets": [],
       "schema": [
        {
         "metadata": "{}",
         "name": "name",
         "type": "\"string\""
        },
        {
         "metadata": "{}",
         "name": "price",
         "type": "\"double\""
        }
       ],
       "type": "table"
      }
     },
     "output_type": "display_data"
    }
   ],
   "source": [
    "display(spark\n",
    "        .table(\"products\")\n",
    "        .select(\"name\", \"price\")\n",
    "        .where(\"price < 200\")\n",
    "        .orderBy(\"price\")\n",
    "       )"
   ]
  },
  {
   "cell_type": "markdown",
   "metadata": {
    "application/vnd.databricks.v1+cell": {
     "cellMetadata": {},
     "inputWidgets": {},
     "nuid": "db0af9d8-099b-4c29-9002-c0bd27eb1455",
     "showTitle": false,
     "title": "--i18n-643d5cd6-3365-4bda-8f9d-fb3107c20e16"
    }
   },
   "source": [
    "\n",
    "\n",
    "\n",
    "We'll go over the syntax for the DataFrame API later in the lesson, but you can see this builder design pattern allows us to chain a sequence of operations very similar to those we find in SQL."
   ]
  },
  {
   "cell_type": "markdown",
   "metadata": {
    "application/vnd.databricks.v1+cell": {
     "cellMetadata": {},
     "inputWidgets": {},
     "nuid": "4ad81fb0-1d14-44aa-a805-2ce2d076104f",
     "showTitle": false,
     "title": "--i18n-ad108597-61bc-4dcc-9d3c-8b8a16753636"
    }
   },
   "source": [
    "\n",
    "\n",
    "## Query Execution\n",
    "We can express the same query using any interface. The Spark SQL engine generates the same query plan used to optimize and execute on our Spark cluster.\n",
    "\n",
    "![query execution engine](https://files.training.databricks.com/images/aspwd/spark_sql_query_execution_engine.png)\n",
    "\n",
    "<img src=\"https://files.training.databricks.com/images/icon_note_32.png\" alt=\"Note\"> Resilient Distributed Datasets (RDDs) are the low-level representation of datasets processed by a Spark cluster. In early versions of Spark, you had to write <a href=\"https://spark.apache.org/docs/latest/rdd-programming-guide.html\" target=\"_blank\">code manipulating RDDs directly</a>. In modern versions of Spark you should instead use the higher-level DataFrame APIs, which Spark automatically compiles into low-level RDD operations."
   ]
  },
  {
   "cell_type": "markdown",
   "metadata": {
    "application/vnd.databricks.v1+cell": {
     "cellMetadata": {},
     "inputWidgets": {},
     "nuid": "d249a150-0a86-4b66-b704-ee5053e76d34",
     "showTitle": false,
     "title": "--i18n-c3b5d922-be36-40a4-b547-f574b52ca0ec"
    }
   },
   "source": [
    "\n",
    "\n",
    "## Spark API Documentation\n",
    "\n",
    "To learn how we work with DataFrames in Spark SQL, let's first look at the Spark API documentation.\n",
    "The main Spark <a href=\"https://spark.apache.org/docs/latest/\" target=\"_blank\">documentation</a> page includes links to API docs and helpful guides for each version of Spark.\n",
    "\n",
    "The <a href=\"https://spark.apache.org/docs/latest/api/scala/org/apache/spark/index.html\" target=\"_blank\">Scala API</a> and <a href=\"https://spark.apache.org/docs/latest/api/python/index.html\" target=\"_blank\">Python API</a> are most commonly used, and it's often helpful to reference the documentation for both languages.\n",
    "Scala docs tend to be more comprehensive, and Python docs tend to have more code examples.\n",
    "\n",
    "#### Navigating Docs for the Spark SQL Module\n",
    "Find the Spark SQL module by navigating to **`org.apache.spark.sql`** in the Scala API or **`pyspark.sql`** in the Python API.\n",
    "The first class we'll explore in this module is the **`SparkSession`** class. You can find this by entering \"SparkSession\" in the search bar."
   ]
  },
  {
   "cell_type": "markdown",
   "metadata": {
    "application/vnd.databricks.v1+cell": {
     "cellMetadata": {},
     "inputWidgets": {},
     "nuid": "57bca886-c565-4d74-9e2a-d4f71a3a1016",
     "showTitle": false,
     "title": "--i18n-e630c320-f786-4259-a656-9094cfd6c677"
    }
   },
   "source": [
    "\n",
    "\n",
    "## SparkSession\n",
    "The **`SparkSession`** class is the single entry point to all functionality in Spark using the DataFrame API.\n",
    "\n",
    "In Databricks notebooks, the SparkSession is created for you, stored in a variable called **`spark`**."
   ]
  },
  {
   "cell_type": "code",
   "execution_count": 0,
   "metadata": {
    "application/vnd.databricks.v1+cell": {
     "cellMetadata": {
      "byteLimit": 2048000,
      "rowLimit": 10000
     },
     "inputWidgets": {},
     "nuid": "cac45cd9-ded9-4948-9d81-ee731b0f32ac",
     "showTitle": false,
     "title": ""
    }
   },
   "outputs": [
    {
     "output_type": "display_data",
     "data": {
      "text/html": [
       "\n",
       "            <div>\n",
       "                <p><b>SparkSession - hive</b></p>\n",
       "                \n",
       "        <div>\n",
       "            <p><b>SparkContext</b></p>\n",
       "\n",
       "            <p><a href=\"/?o=2531441553252678#setting/sparkui/0506-101928-hnxyfyok/driver-6654349942429940439\">Spark UI</a></p>\n",
       "\n",
       "            <dl>\n",
       "              <dt>Version</dt>\n",
       "                <dd><code>v3.3.0</code></dd>\n",
       "              <dt>Master</dt>\n",
       "                <dd><code>local[8]</code></dd>\n",
       "              <dt>AppName</dt>\n",
       "                <dd><code>Databricks Shell</code></dd>\n",
       "            </dl>\n",
       "        </div>\n",
       "        \n",
       "            </div>\n",
       "        "
      ]
     },
     "metadata": {
      "application/vnd.databricks.v1+output": {
       "addedWidgets": {},
       "arguments": {},
       "data": "\n            <div>\n                <p><b>SparkSession - hive</b></p>\n                \n        <div>\n            <p><b>SparkContext</b></p>\n\n            <p><a href=\"/?o=2531441553252678#setting/sparkui/0506-101928-hnxyfyok/driver-6654349942429940439\">Spark UI</a></p>\n\n            <dl>\n              <dt>Version</dt>\n                <dd><code>v3.3.0</code></dd>\n              <dt>Master</dt>\n                <dd><code>local[8]</code></dd>\n              <dt>AppName</dt>\n                <dd><code>Databricks Shell</code></dd>\n            </dl>\n        </div>\n        \n            </div>\n        ",
       "datasetInfos": [],
       "metadata": {},
       "removedWidgets": [],
       "textData": null,
       "type": "htmlSandbox"
      }
     },
     "output_type": "display_data"
    }
   ],
   "source": [
    "spark"
   ]
  },
  {
   "cell_type": "markdown",
   "metadata": {
    "application/vnd.databricks.v1+cell": {
     "cellMetadata": {},
     "inputWidgets": {},
     "nuid": "d10b8a4f-95a8-40fb-8d1a-fb28e6f596f8",
     "showTitle": false,
     "title": "--i18n-d507c25b-0400-447e-a668-9b0a919ed38a"
    }
   },
   "source": [
    "\n",
    "\n",
    "\n",
    "The example from the beginning of this lesson used the SparkSession method **`table`** to create a DataFrame from the **`products`** table. Let's save this in the variable **`products_df`**."
   ]
  },
  {
   "cell_type": "code",
   "execution_count": 0,
   "metadata": {
    "application/vnd.databricks.v1+cell": {
     "cellMetadata": {
      "byteLimit": 2048000,
      "rowLimit": 10000
     },
     "inputWidgets": {},
     "nuid": "6a7a28d5-99c4-415e-ab5b-1bf177953bcf",
     "showTitle": false,
     "title": ""
    }
   },
   "outputs": [],
   "source": [
    "products_df = spark.table(\"products\")"
   ]
  },
  {
   "cell_type": "markdown",
   "metadata": {
    "application/vnd.databricks.v1+cell": {
     "cellMetadata": {},
     "inputWidgets": {},
     "nuid": "a5c7c94f-414c-4940-903a-efd79aca9b32",
     "showTitle": false,
     "title": "--i18n-868ac2d6-e824-4be0-a8d6-cdb2b2ee041b"
    }
   },
   "source": [
    "\n",
    "\n",
    "Below are several additional methods we can use to create DataFrames. All of these can be found in the <a href=\"https://spark.apache.org/docs/latest/api/python/reference/pyspark.sql/spark_session.html\" target=\"_blank\">documentation</a> for **`SparkSession`**.\n",
    "\n",
    "#### **`SparkSession`** Methods\n",
    "| Method | Description |\n",
    "| --- | --- |\n",
    "| sql | Returns a DataFrame representing the result of the given query |\n",
    "| table | Returns the specified table as a DataFrame |\n",
    "| read | Returns a DataFrameReader that can be used to read data in as a DataFrame |\n",
    "| range | Create a DataFrame with a column containing elements in a range from start to end (exclusive) with step value and number of partitions |\n",
    "| createDataFrame | Creates a DataFrame from a list of tuples, primarily used for testing |"
   ]
  },
  {
   "cell_type": "markdown",
   "metadata": {
    "application/vnd.databricks.v1+cell": {
     "cellMetadata": {},
     "inputWidgets": {},
     "nuid": "c3b9134a-e45c-457b-affb-f92afa7210f0",
     "showTitle": false,
     "title": "--i18n-0cb0cd98-a286-45b7-8ec7-d1f2094a1571"
    }
   },
   "source": [
    "\n",
    "\n",
    "\n",
    "Let's use a SparkSession method to run SQL."
   ]
  },
  {
   "cell_type": "code",
   "execution_count": 0,
   "metadata": {
    "application/vnd.databricks.v1+cell": {
     "cellMetadata": {
      "byteLimit": 2048000,
      "rowLimit": 10000
     },
     "inputWidgets": {},
     "nuid": "d76b02c5-d0c9-4068-a6fb-b153bb0e2e5f",
     "showTitle": false,
     "title": ""
    }
   },
   "outputs": [
    {
     "output_type": "display_data",
     "data": {
      "text/html": [
       "<style scoped>\n",
       "  .table-result-container {\n",
       "    max-height: 300px;\n",
       "    overflow: auto;\n",
       "  }\n",
       "  table, th, td {\n",
       "    border: 1px solid black;\n",
       "    border-collapse: collapse;\n",
       "  }\n",
       "  th, td {\n",
       "    padding: 5px;\n",
       "  }\n",
       "  th {\n",
       "    text-align: left;\n",
       "  }\n",
       "</style><div class='table-result-container'><table class='table-result'><thead style='background-color: white'><tr><th>name</th><th>price</th></tr></thead><tbody><tr><td>Standard Foam Pillow</td><td>59.0</td></tr><tr><td>King Foam Pillow</td><td>79.0</td></tr><tr><td>Standard Down Pillow</td><td>119.0</td></tr><tr><td>King Down Pillow</td><td>159.0</td></tr></tbody></table></div>"
      ]
     },
     "metadata": {
      "application/vnd.databricks.v1+output": {
       "addedWidgets": {},
       "aggData": [],
       "aggError": "",
       "aggOverflow": false,
       "aggSchema": [],
       "aggSeriesLimitReached": false,
       "aggType": "",
       "arguments": {},
       "columnCustomDisplayInfos": {},
       "data": [
        [
         "Standard Foam Pillow",
         59.0
        ],
        [
         "King Foam Pillow",
         79.0
        ],
        [
         "Standard Down Pillow",
         119.0
        ],
        [
         "King Down Pillow",
         159.0
        ]
       ],
       "datasetInfos": [],
       "dbfsResultPath": null,
       "isJsonSchema": true,
       "metadata": {},
       "overflow": false,
       "plotOptions": {
        "customPlotOptions": {},
        "displayType": "table",
        "pivotAggregation": null,
        "pivotColumns": null,
        "xColumns": null,
        "yColumns": null
       },
       "removedWidgets": [],
       "schema": [
        {
         "metadata": "{}",
         "name": "name",
         "type": "\"string\""
        },
        {
         "metadata": "{}",
         "name": "price",
         "type": "\"double\""
        }
       ],
       "type": "table"
      }
     },
     "output_type": "display_data"
    }
   ],
   "source": [
    "result_df = spark.sql(\"\"\"\n",
    "SELECT name, price\n",
    "FROM products\n",
    "WHERE price < 200\n",
    "ORDER BY price\n",
    "\"\"\")\n",
    "\n",
    "display(result_df)"
   ]
  },
  {
   "cell_type": "markdown",
   "metadata": {
    "application/vnd.databricks.v1+cell": {
     "cellMetadata": {},
     "inputWidgets": {},
     "nuid": "b15e2105-6bd9-499a-979b-e61fe387349f",
     "showTitle": false,
     "title": "--i18n-bb9997aa-1f07-4fff-912c-1e4350db83c0"
    }
   },
   "source": [
    "\n",
    "\n",
    "## DataFrames\n",
    "Recall that expressing our query using methods in the DataFrame API returns results in a DataFrame. Let's store this in the variable **`budget_df`**.\n",
    "\n",
    "A **DataFrame** is a distributed collection of data grouped into named columns."
   ]
  },
  {
   "cell_type": "code",
   "execution_count": 0,
   "metadata": {
    "application/vnd.databricks.v1+cell": {
     "cellMetadata": {
      "byteLimit": 2048000,
      "rowLimit": 10000
     },
     "inputWidgets": {},
     "nuid": "99a3f7f2-3336-4fd4-b78c-790a4e32f2e7",
     "showTitle": false,
     "title": ""
    }
   },
   "outputs": [],
   "source": [
    "budget_df = (spark\n",
    "             .table(\"products\")\n",
    "             .select(\"name\", \"price\")\n",
    "             .where(\"price < 200\")\n",
    "             .orderBy(\"price\")\n",
    "            )"
   ]
  },
  {
   "cell_type": "markdown",
   "metadata": {
    "application/vnd.databricks.v1+cell": {
     "cellMetadata": {},
     "inputWidgets": {},
     "nuid": "ce976afe-c58d-46df-957b-eefd1be0d467",
     "showTitle": false,
     "title": "--i18n-2a074b60-9587-43b5-9d57-282b219c6b39"
    }
   },
   "source": [
    "\n",
    "\n",
    "\n",
    "We can use **`display()`** to output the results of a dataframe."
   ]
  },
  {
   "cell_type": "code",
   "execution_count": 0,
   "metadata": {
    "application/vnd.databricks.v1+cell": {
     "cellMetadata": {
      "byteLimit": 2048000,
      "rowLimit": 10000
     },
     "inputWidgets": {},
     "nuid": "295dc08a-14e7-4054-b41f-6058637526b6",
     "showTitle": false,
     "title": ""
    }
   },
   "outputs": [
    {
     "output_type": "display_data",
     "data": {
      "text/html": [
       "<style scoped>\n",
       "  .table-result-container {\n",
       "    max-height: 300px;\n",
       "    overflow: auto;\n",
       "  }\n",
       "  table, th, td {\n",
       "    border: 1px solid black;\n",
       "    border-collapse: collapse;\n",
       "  }\n",
       "  th, td {\n",
       "    padding: 5px;\n",
       "  }\n",
       "  th {\n",
       "    text-align: left;\n",
       "  }\n",
       "</style><div class='table-result-container'><table class='table-result'><thead style='background-color: white'><tr><th>name</th><th>price</th></tr></thead><tbody><tr><td>Standard Foam Pillow</td><td>59.0</td></tr><tr><td>King Foam Pillow</td><td>79.0</td></tr><tr><td>Standard Down Pillow</td><td>119.0</td></tr><tr><td>King Down Pillow</td><td>159.0</td></tr></tbody></table></div>"
      ]
     },
     "metadata": {
      "application/vnd.databricks.v1+output": {
       "addedWidgets": {},
       "aggData": [],
       "aggError": "",
       "aggOverflow": false,
       "aggSchema": [],
       "aggSeriesLimitReached": false,
       "aggType": "",
       "arguments": {},
       "columnCustomDisplayInfos": {},
       "data": [
        [
         "Standard Foam Pillow",
         59.0
        ],
        [
         "King Foam Pillow",
         79.0
        ],
        [
         "Standard Down Pillow",
         119.0
        ],
        [
         "King Down Pillow",
         159.0
        ]
       ],
       "datasetInfos": [],
       "dbfsResultPath": null,
       "isJsonSchema": true,
       "metadata": {},
       "overflow": false,
       "plotOptions": {
        "customPlotOptions": {},
        "displayType": "table",
        "pivotAggregation": null,
        "pivotColumns": null,
        "xColumns": null,
        "yColumns": null
       },
       "removedWidgets": [],
       "schema": [
        {
         "metadata": "{}",
         "name": "name",
         "type": "\"string\""
        },
        {
         "metadata": "{}",
         "name": "price",
         "type": "\"double\""
        }
       ],
       "type": "table"
      }
     },
     "output_type": "display_data"
    }
   ],
   "source": [
    "display(budget_df)"
   ]
  },
  {
   "cell_type": "markdown",
   "metadata": {
    "application/vnd.databricks.v1+cell": {
     "cellMetadata": {},
     "inputWidgets": {},
     "nuid": "7e6c7c3a-df9f-4098-8583-c7f90509c3cf",
     "showTitle": false,
     "title": "--i18n-ffcd868b-ce9d-4cd8-bb53-066076a85927"
    }
   },
   "source": [
    "\n",
    "\n",
    "\n",
    "The **schema** defines the column names and types of a dataframe.\n",
    "\n",
    "Access a dataframe's schema using the **`schema`** attribute."
   ]
  },
  {
   "cell_type": "code",
   "execution_count": 0,
   "metadata": {
    "application/vnd.databricks.v1+cell": {
     "cellMetadata": {
      "byteLimit": 2048000,
      "rowLimit": 10000
     },
     "inputWidgets": {},
     "nuid": "1d159a30-884d-4e29-8af5-edbb9f4d1cc1",
     "showTitle": false,
     "title": ""
    }
   },
   "outputs": [
    {
     "output_type": "stream",
     "name": "stdout",
     "output_type": "stream",
     "text": [
      "Out[12]: StructType([StructField('name', StringType(), True), StructField('price', DoubleType(), True)])"
     ]
    }
   ],
   "source": [
    "budget_df.schema"
   ]
  },
  {
   "cell_type": "markdown",
   "metadata": {
    "application/vnd.databricks.v1+cell": {
     "cellMetadata": {},
     "inputWidgets": {},
     "nuid": "121829d6-c6cc-42da-af72-faa26f70814c",
     "showTitle": false,
     "title": "--i18n-fb94b6a7-735e-4050-bedf-53e778b87beb"
    }
   },
   "source": [
    "\n",
    "\n",
    "\n",
    "View a nicer output for this schema using the **`printSchema()`** method."
   ]
  },
  {
   "cell_type": "code",
   "execution_count": 0,
   "metadata": {
    "application/vnd.databricks.v1+cell": {
     "cellMetadata": {
      "byteLimit": 2048000,
      "rowLimit": 10000
     },
     "inputWidgets": {},
     "nuid": "ed6c95c8-5416-4a0b-a0a5-a78734898334",
     "showTitle": false,
     "title": ""
    }
   },
   "outputs": [
    {
     "output_type": "stream",
     "name": "stdout",
     "output_type": "stream",
     "text": [
      "root\n |-- name: string (nullable = true)\n |-- price: double (nullable = true)\n\n"
     ]
    }
   ],
   "source": [
    "budget_df.printSchema()"
   ]
  },
  {
   "cell_type": "markdown",
   "metadata": {
    "application/vnd.databricks.v1+cell": {
     "cellMetadata": {},
     "inputWidgets": {},
     "nuid": "1c0e9861-1da4-44e1-863a-3f781130f3b5",
     "showTitle": false,
     "title": "--i18n-414bd505-67bc-4c05-a87b-9adf23d9b50d"
    }
   },
   "source": [
    "\n",
    "\n",
    "## Transformations\n",
    "When we created **`budget_df`**, we used a series of DataFrame transformation methods e.g. **`select`**, **`where`**, **`orderBy`**.\n",
    "\n",
    "<strong><code>products_df  \n",
    "&nbsp;  .select(\"name\", \"price\")  \n",
    "&nbsp;  .where(\"price < 200\")  \n",
    "&nbsp;  .orderBy(\"price\")  \n",
    "</code></strong>\n",
    "    \n",
    "Transformations operate on and return DataFrames, allowing us to chain transformation methods together to construct new DataFrames.\n",
    "However, these operations can't execute on their own, as transformation methods are **lazily evaluated**.\n",
    "\n",
    "Running the following cell does not trigger any computation."
   ]
  },
  {
   "cell_type": "code",
   "execution_count": 0,
   "metadata": {
    "application/vnd.databricks.v1+cell": {
     "cellMetadata": {
      "byteLimit": 2048000,
      "rowLimit": 10000
     },
     "inputWidgets": {},
     "nuid": "74c6609e-6059-4d09-b47c-1afedf90dce5",
     "showTitle": false,
     "title": ""
    }
   },
   "outputs": [
    {
     "output_type": "stream",
     "name": "stdout",
     "output_type": "stream",
     "text": [
      "Out[14]: DataFrame[name: string, price: double]"
     ]
    }
   ],
   "source": [
    "(products_df\n",
    "  .select(\"name\", \"price\")\n",
    "  .where(\"price < 200\")\n",
    "  .orderBy(\"price\"))"
   ]
  },
  {
   "cell_type": "markdown",
   "metadata": {
    "application/vnd.databricks.v1+cell": {
     "cellMetadata": {},
     "inputWidgets": {},
     "nuid": "8f08d33e-a5a0-4fb3-a075-085224f9f1d9",
     "showTitle": false,
     "title": "--i18n-d8f72c04-d483-40a6-b91b-854699c12a3e"
    }
   },
   "source": [
    "\n",
    "\n",
    "## Actions\n",
    "Conversely, DataFrame actions are methods that **trigger computation**.\n",
    "Actions are needed to trigger the execution of any DataFrame transformations.\n",
    "\n",
    "The **`show`** action causes the following cell to execute transformations."
   ]
  },
  {
   "cell_type": "code",
   "execution_count": 0,
   "metadata": {
    "application/vnd.databricks.v1+cell": {
     "cellMetadata": {
      "byteLimit": 2048000,
      "rowLimit": 10000
     },
     "inputWidgets": {},
     "nuid": "1931b2f3-6b8f-402a-8806-38a5a95de8ac",
     "showTitle": false,
     "title": ""
    }
   },
   "outputs": [
    {
     "output_type": "stream",
     "name": "stdout",
     "output_type": "stream",
     "text": [
      "+--------------------+-----+\n|                name|price|\n+--------------------+-----+\n|Standard Foam Pillow| 59.0|\n|    King Foam Pillow| 79.0|\n|Standard Down Pillow|119.0|\n|    King Down Pillow|159.0|\n+--------------------+-----+\n\n"
     ]
    }
   ],
   "source": [
    "(products_df\n",
    "  .select(\"name\", \"price\")\n",
    "  .where(\"price < 200\")\n",
    "  .orderBy(\"price\")\n",
    "  .show())"
   ]
  },
  {
   "cell_type": "markdown",
   "metadata": {
    "application/vnd.databricks.v1+cell": {
     "cellMetadata": {},
     "inputWidgets": {},
     "nuid": "7ee1feea-46d0-4bc8-ad5c-a0998189d1cc",
     "showTitle": false,
     "title": "--i18n-43ccc1f1-5398-4715-bcbe-b071d0ac93db"
    }
   },
   "source": [
    "\n",
    "\n",
    "\n",
    "Below are several examples of <a href=\"https://spark.apache.org/docs/latest/api/python/reference/pyspark.sql.html#dataframe-apis\" target=\"_blank\">DataFrame</a> actions.\n",
    "\n",
    "### DataFrame Action Methods\n",
    "| Method | Description |\n",
    "| --- | --- |\n",
    "| show | Displays the top n rows of DataFrame in a tabular form |\n",
    "| count | Returns the number of rows in the DataFrame |\n",
    "| describe,  summary | Computes basic statistics for numeric and string columns |\n",
    "| first, head | Returns the the first row |\n",
    "| collect | Returns an array that contains all rows in this DataFrame |\n",
    "| take | Returns an array of the first n rows in the DataFrame |"
   ]
  },
  {
   "cell_type": "markdown",
   "metadata": {
    "application/vnd.databricks.v1+cell": {
     "cellMetadata": {},
     "inputWidgets": {},
     "nuid": "08d15a08-0259-4c1f-a6b2-022fe8cbc9fd",
     "showTitle": false,
     "title": "--i18n-a7ef182c-f9d5-41d4-a36b-327b4c3c8d45"
    }
   },
   "source": [
    "\n",
    "\n",
    "**`count`** returns the number of records in a DataFrame."
   ]
  },
  {
   "cell_type": "code",
   "execution_count": 0,
   "metadata": {
    "application/vnd.databricks.v1+cell": {
     "cellMetadata": {
      "byteLimit": 2048000,
      "rowLimit": 10000
     },
     "inputWidgets": {},
     "nuid": "f66c6186-65eb-45a3-b57a-a7a708c7f921",
     "showTitle": false,
     "title": ""
    }
   },
   "outputs": [
    {
     "output_type": "stream",
     "name": "stdout",
     "output_type": "stream",
     "text": [
      "Out[16]: 4"
     ]
    }
   ],
   "source": [
    "budget_df.count()"
   ]
  },
  {
   "cell_type": "markdown",
   "metadata": {
    "application/vnd.databricks.v1+cell": {
     "cellMetadata": {},
     "inputWidgets": {},
     "nuid": "c1753717-bdd8-4373-b5a7-ee8bd359c35d",
     "showTitle": false,
     "title": "--i18n-5c622ec1-48f8-435f-9ee8-08d9de14ec40"
    }
   },
   "source": [
    "\n",
    "\n",
    "**`collect`** returns an array of all rows in a DataFrame."
   ]
  },
  {
   "cell_type": "code",
   "execution_count": 0,
   "metadata": {
    "application/vnd.databricks.v1+cell": {
     "cellMetadata": {
      "byteLimit": 2048000,
      "rowLimit": 10000
     },
     "inputWidgets": {},
     "nuid": "412a8f15-f26e-4e47-9fcb-c8b519bd246a",
     "showTitle": false,
     "title": ""
    }
   },
   "outputs": [
    {
     "output_type": "stream",
     "name": "stdout",
     "output_type": "stream",
     "text": [
      "Out[17]: [Row(name='Standard Foam Pillow', price=59.0),\n Row(name='King Foam Pillow', price=79.0),\n Row(name='Standard Down Pillow', price=119.0),\n Row(name='King Down Pillow', price=159.0)]"
     ]
    }
   ],
   "source": [
    "budget_df.collect()"
   ]
  },
  {
   "cell_type": "markdown",
   "metadata": {
    "application/vnd.databricks.v1+cell": {
     "cellMetadata": {},
     "inputWidgets": {},
     "nuid": "0326424d-cc45-46f6-a4a1-1468eba1a460",
     "showTitle": false,
     "title": "--i18n-477b58cf-e178-44fe-9495-849f4fed7dfe"
    }
   },
   "source": [
    "\n",
    "\n",
    "## Convert between DataFrames and SQL"
   ]
  },
  {
   "cell_type": "markdown",
   "metadata": {
    "application/vnd.databricks.v1+cell": {
     "cellMetadata": {},
     "inputWidgets": {},
     "nuid": "12ff5034-3e38-4569-8ee5-dde5b30e3e02",
     "showTitle": false,
     "title": "--i18n-e30d48ad-04f4-48e2-8b80-675ab907d99b"
    }
   },
   "source": [
    "\n",
    "\n",
    "**`createOrReplaceTempView`** creates a temporary view based on the DataFrame. The lifetime of the temporary view is tied to the SparkSession that was used to create the DataFrame."
   ]
  },
  {
   "cell_type": "code",
   "execution_count": 0,
   "metadata": {
    "application/vnd.databricks.v1+cell": {
     "cellMetadata": {
      "byteLimit": 2048000,
      "rowLimit": 10000
     },
     "inputWidgets": {},
     "nuid": "28dc9ac4-41e9-407a-a5ec-0de8539378e3",
     "showTitle": false,
     "title": ""
    }
   },
   "outputs": [],
   "source": [
    "budget_df.createOrReplaceTempView(\"budget\")"
   ]
  },
  {
   "cell_type": "code",
   "execution_count": 0,
   "metadata": {
    "application/vnd.databricks.v1+cell": {
     "cellMetadata": {
      "byteLimit": 2048000,
      "rowLimit": 10000
     },
     "inputWidgets": {},
     "nuid": "ce4ec87b-588e-41d5-b42e-6ebca76e73e7",
     "showTitle": false,
     "title": ""
    }
   },
   "outputs": [
    {
     "output_type": "display_data",
     "data": {
      "text/html": [
       "<style scoped>\n",
       "  .table-result-container {\n",
       "    max-height: 300px;\n",
       "    overflow: auto;\n",
       "  }\n",
       "  table, th, td {\n",
       "    border: 1px solid black;\n",
       "    border-collapse: collapse;\n",
       "  }\n",
       "  th, td {\n",
       "    padding: 5px;\n",
       "  }\n",
       "  th {\n",
       "    text-align: left;\n",
       "  }\n",
       "</style><div class='table-result-container'><table class='table-result'><thead style='background-color: white'><tr><th>name</th><th>price</th></tr></thead><tbody><tr><td>Standard Foam Pillow</td><td>59.0</td></tr><tr><td>King Foam Pillow</td><td>79.0</td></tr><tr><td>Standard Down Pillow</td><td>119.0</td></tr><tr><td>King Down Pillow</td><td>159.0</td></tr></tbody></table></div>"
      ]
     },
     "metadata": {
      "application/vnd.databricks.v1+output": {
       "addedWidgets": {},
       "aggData": [],
       "aggError": "",
       "aggOverflow": false,
       "aggSchema": [],
       "aggSeriesLimitReached": false,
       "aggType": "",
       "arguments": {},
       "columnCustomDisplayInfos": {},
       "data": [
        [
         "Standard Foam Pillow",
         59.0
        ],
        [
         "King Foam Pillow",
         79.0
        ],
        [
         "Standard Down Pillow",
         119.0
        ],
        [
         "King Down Pillow",
         159.0
        ]
       ],
       "datasetInfos": [],
       "dbfsResultPath": null,
       "isJsonSchema": true,
       "metadata": {},
       "overflow": false,
       "plotOptions": {
        "customPlotOptions": {},
        "displayType": "table",
        "pivotAggregation": null,
        "pivotColumns": null,
        "xColumns": null,
        "yColumns": null
       },
       "removedWidgets": [],
       "schema": [
        {
         "metadata": "{}",
         "name": "name",
         "type": "\"string\""
        },
        {
         "metadata": "{}",
         "name": "price",
         "type": "\"double\""
        }
       ],
       "type": "table"
      }
     },
     "output_type": "display_data"
    }
   ],
   "source": [
    "display(spark.sql(\"SELECT * FROM budget\"))"
   ]
  },
  {
   "cell_type": "markdown",
   "metadata": {
    "application/vnd.databricks.v1+cell": {
     "cellMetadata": {},
     "inputWidgets": {},
     "nuid": "990fcca0-9ed3-4b89-afba-9d1bd616e96e",
     "showTitle": false,
     "title": "--i18n-53a419c0-e7ad-4d43-aa8e-6899cbd43e8d"
    }
   },
   "source": [
    "\n",
    "\n",
    "### Classroom Cleanup"
   ]
  },
  {
   "cell_type": "code",
   "execution_count": 0,
   "metadata": {
    "application/vnd.databricks.v1+cell": {
     "cellMetadata": {
      "byteLimit": 2048000,
      "rowLimit": 10000
     },
     "inputWidgets": {},
     "nuid": "e8235966-f329-4664-869c-1650ac46a7b4",
     "showTitle": false,
     "title": ""
    }
   },
   "outputs": [
    {
     "output_type": "stream",
     "name": "stdout",
     "output_type": "stream",
     "text": [
      "Resetting the learning environment:\n| dropping the schema \"muaazkhurshid_q1yg_da_asp\"...(2 seconds)\n| removing the working directory \"dbfs:/mnt/dbacademy-users/muaazkhurshid@uni-koblenz.de/apache-spark-programming-with-databricks\"...(0 seconds)\n\nValidating the locally installed datasets:\n| listing local files...(3 seconds)\n| validation completed...(3 seconds total)\n"
     ]
    }
   ],
   "source": [
    "DA.cleanup()"
   ]
  },
  {
   "cell_type": "markdown",
   "metadata": {
    "application/vnd.databricks.v1+cell": {
     "cellMetadata": {},
     "inputWidgets": {},
     "nuid": "0b09483c-a6b9-41e1-b6df-1002498d5838",
     "showTitle": false,
     "title": ""
    }
   },
   "source": [
    "&copy; 2023 Databricks, Inc. All rights reserved.<br/>\n",
    "Apache, Apache Spark, Spark and the Spark logo are trademarks of the <a href=\"https://www.apache.org/\">Apache Software Foundation</a>.<br/>\n",
    "<br/>\n",
    "<a href=\"https://databricks.com/privacy-policy\">Privacy Policy</a> | <a href=\"https://databricks.com/terms-of-use\">Terms of Use</a> | <a href=\"https://help.databricks.com/\">Support</a>"
   ]
  }
 ],
 "metadata": {
  "application/vnd.databricks.v1+notebook": {
   "dashboards": [],
   "language": "python",
   "notebookMetadata": {
    "mostRecentlyExecutedCommandWithImplicitDF": {
     "commandId": 3196930024501805,
     "dataframes": [
      "_sqldf"
     ]
    },
    "pythonIndentUnit": 2
   },
   "notebookName": "ASP 2.1 - Spark SQL",
   "widgets": {}
  }
 },
 "nbformat": 4,
 "nbformat_minor": 0
}
