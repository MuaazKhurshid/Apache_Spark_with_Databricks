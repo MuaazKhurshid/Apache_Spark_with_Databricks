{
 "cells": [
  {
   "cell_type": "markdown",
   "metadata": {
    "application/vnd.databricks.v1+cell": {
     "cellMetadata": {},
     "inputWidgets": {},
     "nuid": "1b5ed05f-f8ba-41e4-82e4-3b54cc6e0acc",
     "showTitle": false,
     "title": ""
    }
   },
   "source": [
    "\n",
    "<div style=\"text-align: center; line-height: 0; padding-top: 9px;\">\n",
    "  <img src=\"https://databricks.com/wp-content/uploads/2018/03/db-academy-rgb-1200px.png\" alt=\"Databricks Learning\" style=\"width: 600px\">\n",
    "</div>"
   ]
  },
  {
   "cell_type": "markdown",
   "metadata": {
    "application/vnd.databricks.v1+cell": {
     "cellMetadata": {},
     "inputWidgets": {},
     "nuid": "e46e62be-2062-453e-a821-0ea8c47ad8c2",
     "showTitle": false,
     "title": "--i18n-536ff4eb-272a-489d-8bb9-59f9ef0de847"
    }
   },
   "source": [
    "\n",
    "\n",
    "# Revenue by Traffic Lab\n",
    "Get the 3 traffic sources generating the highest total revenue.\n",
    "1. Aggregate revenue by traffic source\n",
    "2. Get top 3 traffic sources by total revenue\n",
    "3. Clean revenue columns to have two decimal places\n",
    "\n",
    "##### Methods\n",
    "- <a href=\"https://spark.apache.org/docs/latest/api/python/reference/pyspark.sql/dataframe.html\" target=\"_blank\">DataFrame</a>: **`groupBy`**, **`sort`**, **`limit`**\n",
    "- <a href=\"https://spark.apache.org/docs/latest/api/python/reference/pyspark.sql/column.html\" target=\"_blank\">Column</a>: **`alias`**, **`desc`**, **`cast`**, **`operators`**\n",
    "- <a href=\"https://spark.apache.org/docs/latest/api/python/reference/pyspark.sql/functions.html\" target=\"_blank\">Built-in Functions</a>: **`avg`**, **`sum`**"
   ]
  },
  {
   "cell_type": "code",
   "execution_count": 0,
   "metadata": {
    "application/vnd.databricks.v1+cell": {
     "cellMetadata": {
      "byteLimit": 2048000,
      "rowLimit": 10000
     },
     "inputWidgets": {},
     "nuid": "66ce570c-18dd-4f91-840d-b4b2c2649d4a",
     "showTitle": false,
     "title": ""
    }
   },
   "outputs": [
    {
     "output_type": "stream",
     "name": "stdout",
     "output_type": "stream",
     "text": [
      "Python interpreter will be restarted.\nPython interpreter will be restarted.\n"
     ]
    },
    {
     "output_type": "stream",
     "name": "stdout",
     "output_type": "stream",
     "text": [
      "Resetting the learning environment:\n| No action taken\n\nSkipping install of existing datasets to \"dbfs:/mnt/dbacademy-datasets/apache-spark-programming-with-databricks/v03\"\n\nValidating the locally installed datasets:\n| listing local files...(5 seconds)\n| validation completed...(5 seconds total)\n\nCreating & using the schema \"muaazkhurshid_q1yg_da_asp\" in the catalog \"spark_catalog\"...(1 seconds)\n\nPredefined tables in \"muaazkhurshid_q1yg_da_asp\":\n| -none-\n\nPredefined paths variables:\n| DA.paths.working_dir: dbfs:/mnt/dbacademy-users/muaazkhurshid@uni-koblenz.de/apache-spark-programming-with-databricks\n| DA.paths.user_db:     dbfs:/mnt/dbacademy-users/muaazkhurshid@uni-koblenz.de/apache-spark-programming-with-databricks/database.db\n| DA.paths.datasets:    dbfs:/mnt/dbacademy-datasets/apache-spark-programming-with-databricks/v03\n| DA.paths.checkpoints: dbfs:/mnt/dbacademy-users/muaazkhurshid@uni-koblenz.de/apache-spark-programming-with-databricks/_checkpoints\n\nSetup completed (28 seconds)\n\nPredefined tables in \"muaazkhurshid_q1yg_da_asp\":\n| -none-\n\nPredefined paths variables:\n| DA.paths.working_dir: dbfs:/mnt/dbacademy-users/muaazkhurshid@uni-koblenz.de/apache-spark-programming-with-databricks\n| DA.paths.user_db:     dbfs:/mnt/dbacademy-users/muaazkhurshid@uni-koblenz.de/apache-spark-programming-with-databricks/database.db\n| DA.paths.datasets:    dbfs:/mnt/dbacademy-datasets/apache-spark-programming-with-databricks/v03\n| DA.paths.checkpoints: dbfs:/mnt/dbacademy-users/muaazkhurshid@uni-koblenz.de/apache-spark-programming-with-databricks/_checkpoints\n| DA.paths.sales:       dbfs:/mnt/dbacademy-datasets/apache-spark-programming-with-databricks/v03/ecommerce/sales/sales.delta\n| DA.paths.users:       dbfs:/mnt/dbacademy-datasets/apache-spark-programming-with-databricks/v03/ecommerce/users/users.delta\n| DA.paths.events:      dbfs:/mnt/dbacademy-datasets/apache-spark-programming-with-databricks/v03/ecommerce/events/events.delta\n| DA.paths.products:    dbfs:/mnt/dbacademy-datasets/apache-spark-programming-with-databricks/v03/products/products.delta\n\nSetup completed (28 seconds)\n"
     ]
    }
   ],
   "source": [
    "%run ../Includes/Classroom-Setup"
   ]
  },
  {
   "cell_type": "markdown",
   "metadata": {
    "application/vnd.databricks.v1+cell": {
     "cellMetadata": {},
     "inputWidgets": {},
     "nuid": "c8781c8f-4727-46e0-962e-b813b4c046e5",
     "showTitle": false,
     "title": "--i18n-e6e01ed4-02eb-4b48-8b90-84d440c515a0"
    }
   },
   "source": [
    "\n",
    "\n",
    "### Setup\n",
    "Run the cell below to create the starting DataFrame **`df`**."
   ]
  },
  {
   "cell_type": "code",
   "execution_count": 0,
   "metadata": {
    "application/vnd.databricks.v1+cell": {
     "cellMetadata": {
      "byteLimit": 2048000,
      "rowLimit": 10000
     },
     "inputWidgets": {},
     "nuid": "45da267d-71e8-458a-8663-c172a276d306",
     "showTitle": false,
     "title": ""
    }
   },
   "outputs": [],
   "source": [
    "from pyspark.sql.functions import col\n",
    "\n",
    "# Purchase events logged on the BedBricks website\n",
    "df = (spark.read.format(\"delta\").load(DA.paths.events)\n",
    "      .withColumn(\"revenue\", col(\"ecommerce.purchase_revenue_in_usd\"))\n",
    "      .filter(col(\"revenue\").isNotNull())\n",
    "      .drop(\"event_name\")\n",
    "     )\n",
    "\n",
    "# display(df)"
   ]
  },
  {
   "cell_type": "markdown",
   "metadata": {
    "application/vnd.databricks.v1+cell": {
     "cellMetadata": {},
     "inputWidgets": {},
     "nuid": "fd600996-8c6e-4115-84bd-f17fe4fe40b6",
     "showTitle": false,
     "title": "--i18n-917ddee5-b24d-4f28-9931-b251e5708c35"
    }
   },
   "source": [
    "\n",
    "\n",
    "### 1. Aggregate revenue by traffic source\n",
    "- Group by **`traffic_source`**\n",
    "- Get sum of **`revenue`** as **`total_rev`**. \n",
    "- Get average of **`revenue`** as **`avg_rev`**\n",
    "\n",
    "Remember to import any necessary built-in functions."
   ]
  },
  {
   "cell_type": "code",
   "execution_count": 0,
   "metadata": {
    "application/vnd.databricks.v1+cell": {
     "cellMetadata": {
      "byteLimit": 2048000,
      "rowLimit": 10000
     },
     "inputWidgets": {},
     "nuid": "78032df4-a1ba-47d5-8c68-596f424a13b5",
     "showTitle": false,
     "title": ""
    }
   },
   "outputs": [
    {
     "output_type": "display_data",
     "data": {
      "text/html": [
       "<style scoped>\n",
       "  .table-result-container {\n",
       "    max-height: 300px;\n",
       "    overflow: auto;\n",
       "  }\n",
       "  table, th, td {\n",
       "    border: 1px solid black;\n",
       "    border-collapse: collapse;\n",
       "  }\n",
       "  th, td {\n",
       "    padding: 5px;\n",
       "  }\n",
       "  th {\n",
       "    text-align: left;\n",
       "  }\n",
       "</style><div class='table-result-container'><table class='table-result'><thead style='background-color: white'><tr><th>traffic_source</th><th>total_rev</th><th>avg_rev</th></tr></thead><tbody><tr><td>instagram</td><td>1.6177893E7</td><td>1083.437784623627</td></tr><tr><td>direct</td><td>1.270456E7</td><td>1083.175036234973</td></tr><tr><td>youtube</td><td>8044326.0</td><td>1087.2180024327613</td></tr><tr><td>email</td><td>7.880000029999994E7</td><td>983.2915347084434</td></tr><tr><td>facebook</td><td>2.4797837E7</td><td>1076.6221074111058</td></tr><tr><td>google</td><td>4.7218429E7</td><td>1086.8302950789487</td></tr></tbody></table></div>"
      ]
     },
     "metadata": {
      "application/vnd.databricks.v1+output": {
       "addedWidgets": {},
       "aggData": [],
       "aggError": "",
       "aggOverflow": false,
       "aggSchema": [],
       "aggSeriesLimitReached": false,
       "aggType": "",
       "arguments": {},
       "columnCustomDisplayInfos": {},
       "data": [
        [
         "instagram",
         1.6177893E7,
         1083.437784623627
        ],
        [
         "direct",
         1.270456E7,
         1083.175036234973
        ],
        [
         "youtube",
         8044326.0,
         1087.2180024327613
        ],
        [
         "email",
         7.880000029999994E7,
         983.2915347084434
        ],
        [
         "facebook",
         2.4797837E7,
         1076.6221074111058
        ],
        [
         "google",
         4.7218429E7,
         1086.8302950789487
        ]
       ],
       "datasetInfos": [],
       "dbfsResultPath": null,
       "isJsonSchema": true,
       "metadata": {},
       "overflow": false,
       "plotOptions": {
        "customPlotOptions": {},
        "displayType": "table",
        "pivotAggregation": null,
        "pivotColumns": null,
        "xColumns": null,
        "yColumns": null
       },
       "removedWidgets": [],
       "schema": [
        {
         "metadata": "{}",
         "name": "traffic_source",
         "type": "\"string\""
        },
        {
         "metadata": "{}",
         "name": "total_rev",
         "type": "\"double\""
        },
        {
         "metadata": "{}",
         "name": "avg_rev",
         "type": "\"double\""
        }
       ],
       "type": "table"
      }
     },
     "output_type": "display_data"
    }
   ],
   "source": [
    "# TODO\n",
    "from pyspark.sql.functions import sum, avg\n",
    "traffic_df = (df.groupBy(\"traffic_source\")\n",
    "              .agg(sum(\"revenue\").alias(\"total_rev\"),\n",
    "                   avg(\"revenue\").alias(\"avg_rev\")\n",
    "                   )\n",
    "              )\n",
    "\n",
    "display(traffic_df)"
   ]
  },
  {
   "cell_type": "markdown",
   "metadata": {
    "application/vnd.databricks.v1+cell": {
     "cellMetadata": {},
     "inputWidgets": {},
     "nuid": "9e783a9a-84a6-4db7-b9bd-f1e3cbb229e8",
     "showTitle": false,
     "title": "--i18n-3c5e0ac8-5f3f-4848-8403-dae36db0d3b5"
    }
   },
   "source": [
    "\n",
    "\n",
    "\n",
    "**1.1: CHECK YOUR WORK**"
   ]
  },
  {
   "cell_type": "code",
   "execution_count": 0,
   "metadata": {
    "application/vnd.databricks.v1+cell": {
     "cellMetadata": {
      "byteLimit": 2048000,
      "rowLimit": 10000
     },
     "inputWidgets": {},
     "nuid": "704d6ba9-d3d6-4c9d-bded-9b3f825e7fff",
     "showTitle": false,
     "title": ""
    }
   },
   "outputs": [
    {
     "output_type": "stream",
     "name": "stdout",
     "output_type": "stream",
     "text": [
      "All test pass\n"
     ]
    }
   ],
   "source": [
    "from pyspark.sql.functions import round\n",
    "\n",
    "expected1 = [(12704560.0, 1083.175), (78800000.3, 983.2915), (24797837.0, 1076.6221), (47218429.0, 1086.8303), (16177893.0, 1083.4378), (8044326.0, 1087.218)]\n",
    "test_df = traffic_df.sort(\"traffic_source\").select(round(\"total_rev\", 4).alias(\"total_rev\"), round(\"avg_rev\", 4).alias(\"avg_rev\"))\n",
    "result1 = [(row.total_rev, row.avg_rev) for row in test_df.collect()]\n",
    "\n",
    "assert(expected1 == result1)\n",
    "print(\"All test pass\")"
   ]
  },
  {
   "cell_type": "markdown",
   "metadata": {
    "application/vnd.databricks.v1+cell": {
     "cellMetadata": {},
     "inputWidgets": {},
     "nuid": "d63112e7-b573-47bc-bf50-e8fc00b607d3",
     "showTitle": false,
     "title": "--i18n-718d5dd8-6d52-442d-88af-ecf838d5deb8"
    }
   },
   "source": [
    "\n",
    "\n",
    "### 2. Get top three traffic sources by total revenue\n",
    "- Sort by **`total_rev`** in descending order\n",
    "- Limit to first three rows"
   ]
  },
  {
   "cell_type": "code",
   "execution_count": 0,
   "metadata": {
    "application/vnd.databricks.v1+cell": {
     "cellMetadata": {
      "byteLimit": 2048000,
      "rowLimit": 10000
     },
     "inputWidgets": {},
     "nuid": "79a01d8c-0579-4997-a01c-1b05c94afe13",
     "showTitle": false,
     "title": ""
    }
   },
   "outputs": [
    {
     "output_type": "display_data",
     "data": {
      "text/html": [
       "<style scoped>\n",
       "  .table-result-container {\n",
       "    max-height: 300px;\n",
       "    overflow: auto;\n",
       "  }\n",
       "  table, th, td {\n",
       "    border: 1px solid black;\n",
       "    border-collapse: collapse;\n",
       "  }\n",
       "  th, td {\n",
       "    padding: 5px;\n",
       "  }\n",
       "  th {\n",
       "    text-align: left;\n",
       "  }\n",
       "</style><div class='table-result-container'><table class='table-result'><thead style='background-color: white'><tr><th>traffic_source</th><th>total_rev</th><th>avg_rev</th></tr></thead><tbody><tr><td>email</td><td>7.880000029999994E7</td><td>983.2915347084434</td></tr><tr><td>google</td><td>4.7218429E7</td><td>1086.8302950789487</td></tr><tr><td>facebook</td><td>2.4797837E7</td><td>1076.6221074111058</td></tr></tbody></table></div>"
      ]
     },
     "metadata": {
      "application/vnd.databricks.v1+output": {
       "addedWidgets": {},
       "aggData": [],
       "aggError": "",
       "aggOverflow": false,
       "aggSchema": [],
       "aggSeriesLimitReached": false,
       "aggType": "",
       "arguments": {},
       "columnCustomDisplayInfos": {},
       "data": [
        [
         "email",
         7.880000029999994E7,
         983.2915347084434
        ],
        [
         "google",
         4.7218429E7,
         1086.8302950789487
        ],
        [
         "facebook",
         2.4797837E7,
         1076.6221074111058
        ]
       ],
       "datasetInfos": [],
       "dbfsResultPath": null,
       "isJsonSchema": true,
       "metadata": {},
       "overflow": false,
       "plotOptions": {
        "customPlotOptions": {},
        "displayType": "table",
        "pivotAggregation": null,
        "pivotColumns": null,
        "xColumns": null,
        "yColumns": null
       },
       "removedWidgets": [],
       "schema": [
        {
         "metadata": "{}",
         "name": "traffic_source",
         "type": "\"string\""
        },
        {
         "metadata": "{}",
         "name": "total_rev",
         "type": "\"double\""
        },
        {
         "metadata": "{}",
         "name": "avg_rev",
         "type": "\"double\""
        }
       ],
       "type": "table"
      }
     },
     "output_type": "display_data"
    }
   ],
   "source": [
    "# TODO\n",
    "from pyspark.sql.functions import desc\n",
    "top_traffic_df = (traffic_df.sort(desc(\"total_rev\")).limit(3)\n",
    ")\n",
    "display(top_traffic_df)"
   ]
  },
  {
   "cell_type": "markdown",
   "metadata": {
    "application/vnd.databricks.v1+cell": {
     "cellMetadata": {},
     "inputWidgets": {},
     "nuid": "28655193-77e0-4c29-a99b-482843726acd",
     "showTitle": false,
     "title": "--i18n-a6f740e0-3808-4626-9c60-924cbcaafd5a"
    }
   },
   "source": [
    "\n",
    "\n",
    "\n",
    "**2.1: CHECK YOUR WORK**"
   ]
  },
  {
   "cell_type": "code",
   "execution_count": 0,
   "metadata": {
    "application/vnd.databricks.v1+cell": {
     "cellMetadata": {
      "byteLimit": 2048000,
      "rowLimit": 10000
     },
     "inputWidgets": {},
     "nuid": "b2092cd0-7d03-439d-9beb-534e649038ab",
     "showTitle": false,
     "title": ""
    }
   },
   "outputs": [
    {
     "output_type": "stream",
     "name": "stdout",
     "output_type": "stream",
     "text": [
      "All test pass\n"
     ]
    }
   ],
   "source": [
    "expected2 = [(78800000.3, 983.2915), (47218429.0, 1086.8303), (24797837.0, 1076.6221)]\n",
    "test_df = top_traffic_df.select(round(\"total_rev\", 4).alias(\"total_rev\"), round(\"avg_rev\", 4).alias(\"avg_rev\"))\n",
    "result2 = [(row.total_rev, row.avg_rev) for row in test_df.collect()]\n",
    "\n",
    "assert(expected2 == result2)\n",
    "print(\"All test pass\")"
   ]
  },
  {
   "cell_type": "markdown",
   "metadata": {
    "application/vnd.databricks.v1+cell": {
     "cellMetadata": {},
     "inputWidgets": {},
     "nuid": "77081276-3584-44d0-b3f2-56b451683cec",
     "showTitle": false,
     "title": "--i18n-72051bbe-4207-44b1-95ef-f5beee6d10e2"
    }
   },
   "source": [
    "\n",
    "\n",
    "### 3. Limit revenue columns to two decimal places\n",
    "- Modify columns **`avg_rev`** and **`total_rev`** to contain numbers with two decimal places\n",
    "  - Use **`withColumn()`** with the same names to replace these columns\n",
    "  - To limit to two decimal places, multiply each column by 100, cast to long, and then divide by 100"
   ]
  },
  {
   "cell_type": "code",
   "execution_count": 0,
   "metadata": {
    "application/vnd.databricks.v1+cell": {
     "cellMetadata": {
      "byteLimit": 2048000,
      "rowLimit": 10000
     },
     "inputWidgets": {},
     "nuid": "d2e3e36a-5715-4f1c-ba00-2661ca113f99",
     "showTitle": false,
     "title": ""
    }
   },
   "outputs": [
    {
     "output_type": "display_data",
     "data": {
      "text/html": [
       "<style scoped>\n",
       "  .table-result-container {\n",
       "    max-height: 300px;\n",
       "    overflow: auto;\n",
       "  }\n",
       "  table, th, td {\n",
       "    border: 1px solid black;\n",
       "    border-collapse: collapse;\n",
       "  }\n",
       "  th, td {\n",
       "    padding: 5px;\n",
       "  }\n",
       "  th {\n",
       "    text-align: left;\n",
       "  }\n",
       "</style><div class='table-result-container'><table class='table-result'><thead style='background-color: white'><tr><th>traffic_source</th><th>total_rev</th><th>avg_rev</th></tr></thead><tbody><tr><td>email</td><td>7.880000029E7</td><td>983.29</td></tr><tr><td>google</td><td>4.7218429E7</td><td>1086.83</td></tr><tr><td>facebook</td><td>2.4797837E7</td><td>1076.62</td></tr></tbody></table></div>"
      ]
     },
     "metadata": {
      "application/vnd.databricks.v1+output": {
       "addedWidgets": {},
       "aggData": [],
       "aggError": "",
       "aggOverflow": false,
       "aggSchema": [],
       "aggSeriesLimitReached": false,
       "aggType": "",
       "arguments": {},
       "columnCustomDisplayInfos": {},
       "data": [
        [
         "email",
         7.880000029E7,
         983.29
        ],
        [
         "google",
         4.7218429E7,
         1086.83
        ],
        [
         "facebook",
         2.4797837E7,
         1076.62
        ]
       ],
       "datasetInfos": [],
       "dbfsResultPath": null,
       "isJsonSchema": true,
       "metadata": {},
       "overflow": false,
       "plotOptions": {
        "customPlotOptions": {},
        "displayType": "table",
        "pivotAggregation": null,
        "pivotColumns": null,
        "xColumns": null,
        "yColumns": null
       },
       "removedWidgets": [],
       "schema": [
        {
         "metadata": "{}",
         "name": "traffic_source",
         "type": "\"string\""
        },
        {
         "metadata": "{}",
         "name": "total_rev",
         "type": "\"double\""
        },
        {
         "metadata": "{}",
         "name": "avg_rev",
         "type": "\"double\""
        }
       ],
       "type": "table"
      }
     },
     "output_type": "display_data"
    }
   ],
   "source": [
    "# TODO\n",
    "from pyspark.sql.types import LongType\n",
    "from pyspark.sql.functions import col\n",
    "final_df = (top_traffic_df\n",
    "            .withColumn(\"total_rev\", (col(\"total_rev\")*100).cast(\"Long\")/100)\n",
    "            .withColumn(\"avg_rev\", (col(\"avg_rev\")*100).cast(\"Long\")/100)             \n",
    "              \n",
    ")\n",
    "\n",
    "display(final_df)"
   ]
  },
  {
   "cell_type": "markdown",
   "metadata": {
    "application/vnd.databricks.v1+cell": {
     "cellMetadata": {},
     "inputWidgets": {},
     "nuid": "b9147ed8-9192-47ab-915e-3bb568569517",
     "showTitle": false,
     "title": "--i18n-e90f2db4-1f38-4c46-87de-2760f96b2de8"
    }
   },
   "source": [
    "\n",
    "\n",
    "\n",
    "**3.1: CHECK YOUR WORK**"
   ]
  },
  {
   "cell_type": "code",
   "execution_count": 0,
   "metadata": {
    "application/vnd.databricks.v1+cell": {
     "cellMetadata": {
      "byteLimit": 2048000,
      "rowLimit": 10000
     },
     "inputWidgets": {},
     "nuid": "f0f8ad9c-f8b5-4e8b-a824-875978852de6",
     "showTitle": false,
     "title": ""
    }
   },
   "outputs": [
    {
     "output_type": "stream",
     "name": "stdout",
     "output_type": "stream",
     "text": [
      "All test pass\n"
     ]
    }
   ],
   "source": [
    "expected3 = [(78800000.29, 983.29), (47218429.0, 1086.83), (24797837.0, 1076.62)]\n",
    "result3 = [(row.total_rev, row.avg_rev) for row in final_df.collect()]\n",
    "\n",
    "assert(expected3 == result3)\n",
    "print(\"All test pass\")"
   ]
  },
  {
   "cell_type": "markdown",
   "metadata": {
    "application/vnd.databricks.v1+cell": {
     "cellMetadata": {},
     "inputWidgets": {},
     "nuid": "8a1b9fec-ff9a-4a88-866e-876b3ff54973",
     "showTitle": false,
     "title": "--i18n-060c0140-3c4c-4558-96de-f7c2379742d3"
    }
   },
   "source": [
    "\n",
    "\n",
    "### 4. Bonus: Rewrite using a built-in math function\n",
    "Find a built-in math function that rounds to a specified number of decimal places"
   ]
  },
  {
   "cell_type": "code",
   "execution_count": 0,
   "metadata": {
    "application/vnd.databricks.v1+cell": {
     "cellMetadata": {
      "byteLimit": 2048000,
      "rowLimit": 10000
     },
     "inputWidgets": {},
     "nuid": "1ea4b8c7-31ba-4b64-b351-36750a1a3406",
     "showTitle": false,
     "title": ""
    }
   },
   "outputs": [
    {
     "output_type": "display_data",
     "data": {
      "text/html": [
       "<style scoped>\n",
       "  .table-result-container {\n",
       "    max-height: 300px;\n",
       "    overflow: auto;\n",
       "  }\n",
       "  table, th, td {\n",
       "    border: 1px solid black;\n",
       "    border-collapse: collapse;\n",
       "  }\n",
       "  th, td {\n",
       "    padding: 5px;\n",
       "  }\n",
       "  th {\n",
       "    text-align: left;\n",
       "  }\n",
       "</style><div class='table-result-container'><table class='table-result'><thead style='background-color: white'><tr><th>avg_rev</th><th>total_rev</th></tr></thead><tbody><tr><td>983.29</td><td>7.88000003E7</td></tr><tr><td>1086.83</td><td>4.7218429E7</td></tr><tr><td>1076.62</td><td>2.4797837E7</td></tr></tbody></table></div>"
      ]
     },
     "metadata": {
      "application/vnd.databricks.v1+output": {
       "addedWidgets": {},
       "aggData": [],
       "aggError": "",
       "aggOverflow": false,
       "aggSchema": [],
       "aggSeriesLimitReached": false,
       "aggType": "",
       "arguments": {},
       "columnCustomDisplayInfos": {},
       "data": [
        [
         983.29,
         7.88000003E7
        ],
        [
         1086.83,
         4.7218429E7
        ],
        [
         1076.62,
         2.4797837E7
        ]
       ],
       "datasetInfos": [],
       "dbfsResultPath": null,
       "isJsonSchema": true,
       "metadata": {},
       "overflow": false,
       "plotOptions": {
        "customPlotOptions": {},
        "displayType": "table",
        "pivotAggregation": null,
        "pivotColumns": null,
        "xColumns": null,
        "yColumns": null
       },
       "removedWidgets": [],
       "schema": [
        {
         "metadata": "{}",
         "name": "avg_rev",
         "type": "\"double\""
        },
        {
         "metadata": "{}",
         "name": "total_rev",
         "type": "\"double\""
        }
       ],
       "type": "table"
      }
     },
     "output_type": "display_data"
    }
   ],
   "source": [
    "# TODO\n",
    "from pyspark.sql.functions import round\n",
    "bonus_df = (top_traffic_df\n",
    "            .select(\n",
    "              round(\"avg_rev\",2).alias(\"avg_rev\")\n",
    "              ,round(\"total_rev\",2).alias(\"total_rev\")\n",
    "              )\n",
    "            \n",
    ")\n",
    "\n",
    "display(bonus_df)"
   ]
  },
  {
   "cell_type": "markdown",
   "metadata": {
    "application/vnd.databricks.v1+cell": {
     "cellMetadata": {},
     "inputWidgets": {},
     "nuid": "7481dd2a-1d4b-4a79-8c85-da927116728f",
     "showTitle": false,
     "title": "--i18n-9875e048-7810-4019-9891-712d6b7a5256"
    }
   },
   "source": [
    "\n",
    "\n",
    "\n",
    "**4.1: CHECK YOUR WORK**"
   ]
  },
  {
   "cell_type": "code",
   "execution_count": 0,
   "metadata": {
    "application/vnd.databricks.v1+cell": {
     "cellMetadata": {
      "byteLimit": 2048000,
      "rowLimit": 10000
     },
     "inputWidgets": {},
     "nuid": "07a0439a-906c-49f5-83c4-19321348a2e5",
     "showTitle": false,
     "title": ""
    }
   },
   "outputs": [
    {
     "output_type": "stream",
     "name": "stdout",
     "output_type": "stream",
     "text": [
      "All test pass\n"
     ]
    }
   ],
   "source": [
    "expected4 = [(78800000.3, 983.29), (47218429.0, 1086.83), (24797837.0, 1076.62)]\n",
    "result4 = [(row.total_rev, row.avg_rev) for row in bonus_df.collect()]\n",
    "\n",
    "assert(expected4 == result4)\n",
    "print(\"All test pass\")"
   ]
  },
  {
   "cell_type": "markdown",
   "metadata": {
    "application/vnd.databricks.v1+cell": {
     "cellMetadata": {},
     "inputWidgets": {},
     "nuid": "d7da394b-f80b-4ebe-88c9-4cacdffdcc49",
     "showTitle": false,
     "title": "--i18n-085d88db-a489-4142-9e04-47687adcf61d"
    }
   },
   "source": [
    "\n",
    "\n",
    "### 5. Chain all the steps above"
   ]
  },
  {
   "cell_type": "code",
   "execution_count": 0,
   "metadata": {
    "application/vnd.databricks.v1+cell": {
     "cellMetadata": {
      "byteLimit": 2048000,
      "rowLimit": 10000
     },
     "inputWidgets": {},
     "nuid": "410b6758-1d9e-4cb4-b3e1-2d62c0b4997e",
     "showTitle": false,
     "title": ""
    }
   },
   "outputs": [
    {
     "output_type": "display_data",
     "data": {
      "text/html": [
       "<style scoped>\n",
       "  .table-result-container {\n",
       "    max-height: 300px;\n",
       "    overflow: auto;\n",
       "  }\n",
       "  table, th, td {\n",
       "    border: 1px solid black;\n",
       "    border-collapse: collapse;\n",
       "  }\n",
       "  th, td {\n",
       "    padding: 5px;\n",
       "  }\n",
       "  th {\n",
       "    text-align: left;\n",
       "  }\n",
       "</style><div class='table-result-container'><table class='table-result'><thead style='background-color: white'><tr><th>avg_rev</th><th>total_rev</th></tr></thead><tbody><tr><td>983.29</td><td>7.88000003E7</td></tr><tr><td>1086.83</td><td>4.7218429E7</td></tr><tr><td>1076.62</td><td>2.4797837E7</td></tr></tbody></table></div>"
      ]
     },
     "metadata": {
      "application/vnd.databricks.v1+output": {
       "addedWidgets": {},
       "aggData": [],
       "aggError": "",
       "aggOverflow": false,
       "aggSchema": [],
       "aggSeriesLimitReached": false,
       "aggType": "",
       "arguments": {},
       "columnCustomDisplayInfos": {},
       "data": [
        [
         983.29,
         7.88000003E7
        ],
        [
         1086.83,
         4.7218429E7
        ],
        [
         1076.62,
         2.4797837E7
        ]
       ],
       "datasetInfos": [],
       "dbfsResultPath": null,
       "isJsonSchema": true,
       "metadata": {},
       "overflow": false,
       "plotOptions": {
        "customPlotOptions": {},
        "displayType": "table",
        "pivotAggregation": null,
        "pivotColumns": null,
        "xColumns": null,
        "yColumns": null
       },
       "removedWidgets": [],
       "schema": [
        {
         "metadata": "{}",
         "name": "avg_rev",
         "type": "\"double\""
        },
        {
         "metadata": "{}",
         "name": "total_rev",
         "type": "\"double\""
        }
       ],
       "type": "table"
      }
     },
     "output_type": "display_data"
    }
   ],
   "source": [
    "# TODO\n",
    "#1. Group by traffic_source, Get sum of revenue as total_rev, Get average of revenue as avg_rev\n",
    "#2. Sort by total_rev in descending order\n",
    "#3.Limit revenue columns to two decimal places\n",
    "#4. \n",
    "from pyspark.sql.functions import round, sum, avg, desc, col\n",
    "chain_df = (df.groupBy(\"traffic_source\").agg(sum(\"revenue\").alias(\"total_rev\"), avg(\"revenue\").alias(\"avg_rev\"))\n",
    "            .sort(desc(\"total_rev\")).limit(3)\n",
    "            .select(round(\"avg_rev\",2).alias(\"avg_rev\"), round(\"total_rev\", 2).alias(\"total_rev\"))\n",
    ")\n",
    "\n",
    "display(chain_df)"
   ]
  },
  {
   "cell_type": "markdown",
   "metadata": {
    "application/vnd.databricks.v1+cell": {
     "cellMetadata": {},
     "inputWidgets": {},
     "nuid": "d5910af1-b29a-429f-9804-486786f273be",
     "showTitle": false,
     "title": "--i18n-7ca119b7-9322-4f04-9c58-c7873a1ea474"
    }
   },
   "source": [
    "\n",
    "\n",
    "\n",
    "**5.1: CHECK YOUR WORK**"
   ]
  },
  {
   "cell_type": "code",
   "execution_count": 0,
   "metadata": {
    "application/vnd.databricks.v1+cell": {
     "cellMetadata": {
      "byteLimit": 2048000,
      "rowLimit": 10000
     },
     "inputWidgets": {},
     "nuid": "6831f1b9-3759-4e18-9332-5adfa00a1696",
     "showTitle": false,
     "title": ""
    }
   },
   "outputs": [
    {
     "output_type": "stream",
     "name": "stdout",
     "output_type": "stream",
     "text": [
      "All test pass\n"
     ]
    }
   ],
   "source": [
    "method_a = [(78800000.3,  983.29), (47218429.0, 1086.83), (24797837.0, 1076.62)]\n",
    "method_b = [(78800000.29, 983.29), (47218429.0, 1086.83), (24797837.0, 1076.62)]\n",
    "result5 = [(row.total_rev, row.avg_rev) for row in chain_df.collect()]\n",
    "\n",
    "assert result5 == method_a or result5 == method_b\n",
    "print(\"All test pass\")"
   ]
  },
  {
   "cell_type": "markdown",
   "metadata": {
    "application/vnd.databricks.v1+cell": {
     "cellMetadata": {},
     "inputWidgets": {},
     "nuid": "408fa302-0a48-4738-b5f5-8f7dccac33c9",
     "showTitle": false,
     "title": "--i18n-60b8db05-ebb2-4d50-bed2-c72259929b16"
    }
   },
   "source": [
    "\n",
    "\n",
    "### Clean up classroom"
   ]
  },
  {
   "cell_type": "code",
   "execution_count": 0,
   "metadata": {
    "application/vnd.databricks.v1+cell": {
     "cellMetadata": {
      "byteLimit": 2048000,
      "rowLimit": 10000
     },
     "inputWidgets": {},
     "nuid": "762a12ad-4181-4064-8ed7-4f3daecd30b7",
     "showTitle": false,
     "title": ""
    }
   },
   "outputs": [
    {
     "output_type": "stream",
     "name": "stdout",
     "output_type": "stream",
     "text": [
      "Resetting the learning environment:\n| dropping the schema \"muaazkhurshid_q1yg_da_asp\"...(2 seconds)\n| removing the working directory \"dbfs:/mnt/dbacademy-users/muaazkhurshid@uni-koblenz.de/apache-spark-programming-with-databricks\"...(0 seconds)\n\nValidating the locally installed datasets:\n| listing local files...(4 seconds)\n| validation completed...(4 seconds total)\n"
     ]
    }
   ],
   "source": [
    "DA.cleanup()"
   ]
  },
  {
   "cell_type": "markdown",
   "metadata": {
    "application/vnd.databricks.v1+cell": {
     "cellMetadata": {},
     "inputWidgets": {},
     "nuid": "53c7873f-69d1-473a-aeaf-f75d21411103",
     "showTitle": false,
     "title": ""
    }
   },
   "source": [
    "&copy; 2023 Databricks, Inc. All rights reserved.<br/>\n",
    "Apache, Apache Spark, Spark and the Spark logo are trademarks of the <a href=\"https://www.apache.org/\">Apache Software Foundation</a>.<br/>\n",
    "<br/>\n",
    "<a href=\"https://databricks.com/privacy-policy\">Privacy Policy</a> | <a href=\"https://databricks.com/terms-of-use\">Terms of Use</a> | <a href=\"https://help.databricks.com/\">Support</a>"
   ]
  }
 ],
 "metadata": {
  "application/vnd.databricks.v1+notebook": {
   "dashboards": [],
   "language": "python",
   "notebookMetadata": {
    "pythonIndentUnit": 2
   },
   "notebookName": "ASP 3.1L - Revenue by Traffic Lab",
   "widgets": {}
  }
 },
 "nbformat": 4,
 "nbformat_minor": 0
}
